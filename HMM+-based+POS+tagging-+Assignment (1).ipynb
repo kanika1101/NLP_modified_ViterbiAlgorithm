{
 "cells": [
  {
   "cell_type": "markdown",
   "metadata": {},
   "source": [
    "## POS tagging using modified Viterbi"
   ]
  },
  {
   "cell_type": "markdown",
   "metadata": {},
   "source": [
    "### Data Preparation"
   ]
  },
  {
   "cell_type": "code",
   "execution_count": 232,
   "metadata": {},
   "outputs": [],
   "source": [
    "#Importing libraries\n",
    "import nltk, re, pprint\n",
    "import numpy as np\n",
    "import pandas as pd\n",
    "import requests\n",
    "import matplotlib.pyplot as plt\n",
    "import seaborn as sns\n",
    "import pprint, time\n",
    "import random\n",
    "from sklearn.model_selection import train_test_split\n",
    "from nltk.tokenize import word_tokenize"
   ]
  },
  {
   "cell_type": "code",
   "execution_count": 233,
   "metadata": {},
   "outputs": [
    {
     "name": "stderr",
     "output_type": "stream",
     "text": [
      "[nltk_data] Downloading package universal_tagset to\n",
      "[nltk_data]     C:\\Users\\Kush\\AppData\\Roaming\\nltk_data...\n",
      "[nltk_data]   Package universal_tagset is already up-to-date!\n"
     ]
    },
    {
     "data": {
      "text/plain": [
       "True"
      ]
     },
     "execution_count": 233,
     "metadata": {},
     "output_type": "execute_result"
    }
   ],
   "source": [
    "nltk.download('universal_tagset')"
   ]
  },
  {
   "cell_type": "code",
   "execution_count": 234,
   "metadata": {},
   "outputs": [],
   "source": [
    "# reading the Treebank tagged sentences\n",
    "nltk_data = list(nltk.corpus.treebank.tagged_sents(tagset='universal'))\n"
   ]
  },
  {
   "cell_type": "code",
   "execution_count": 235,
   "metadata": {},
   "outputs": [
    {
     "name": "stdout",
     "output_type": "stream",
     "text": [
      "[[('Pierre', 'NOUN'), ('Vinken', 'NOUN'), (',', '.'), ('61', 'NUM'), ('years', 'NOUN'), ('old', 'ADJ'), (',', '.'), ('will', 'VERB'), ('join', 'VERB'), ('the', 'DET'), ('board', 'NOUN'), ('as', 'ADP'), ('a', 'DET'), ('nonexecutive', 'ADJ'), ('director', 'NOUN'), ('Nov.', 'NOUN'), ('29', 'NUM'), ('.', '.')], [('Mr.', 'NOUN'), ('Vinken', 'NOUN'), ('is', 'VERB'), ('chairman', 'NOUN'), ('of', 'ADP'), ('Elsevier', 'NOUN'), ('N.V.', 'NOUN'), (',', '.'), ('the', 'DET'), ('Dutch', 'NOUN'), ('publishing', 'VERB'), ('group', 'NOUN'), ('.', '.')], [('Rudolph', 'NOUN'), ('Agnew', 'NOUN'), (',', '.'), ('55', 'NUM'), ('years', 'NOUN'), ('old', 'ADJ'), ('and', 'CONJ'), ('former', 'ADJ'), ('chairman', 'NOUN'), ('of', 'ADP'), ('Consolidated', 'NOUN'), ('Gold', 'NOUN'), ('Fields', 'NOUN'), ('PLC', 'NOUN'), (',', '.'), ('was', 'VERB'), ('named', 'VERB'), ('*-1', 'X'), ('a', 'DET'), ('nonexecutive', 'ADJ'), ('director', 'NOUN'), ('of', 'ADP'), ('this', 'DET'), ('British', 'ADJ'), ('industrial', 'ADJ'), ('conglomerate', 'NOUN'), ('.', '.')]]\n"
     ]
    }
   ],
   "source": [
    "# Print first 3 sentences along with tags\n",
    "print(nltk_data[:3])"
   ]
  },
  {
   "cell_type": "code",
   "execution_count": 236,
   "metadata": {},
   "outputs": [
    {
     "name": "stdout",
     "output_type": "stream",
     "text": [
      "3718\n",
      "196\n",
      "[[('Bank', 'NOUN'), ('of', 'ADP'), ('New', 'NOUN'), ('England', 'NOUN'), (\"'s\", 'PRT'), ('shares', 'NOUN'), ('are', 'VERB'), ('traded', 'VERB'), ('*-1', 'X'), ('on', 'ADP'), ('the', 'DET'), ('New', 'NOUN'), ('York', 'NOUN'), ('Stock', 'NOUN'), ('Exchange', 'NOUN'), ('.', '.')], [('$', '.'), ('130', 'NUM'), ('million', 'NUM'), ('*U*', 'X'), ('of', 'ADP'), ('general', 'ADJ'), ('obligation', 'NOUN'), ('distributable', 'ADJ'), ('state', 'NOUN'), ('aid', 'NOUN'), ('bonds', 'NOUN'), ('due', 'ADJ'), ('1991-2000', 'NUM'), ('and', 'CONJ'), ('2009', 'NUM'), (',', '.'), ('tentatively', 'ADV'), ('priced', 'VERB'), ('*', 'X'), ('by', 'ADP'), ('a', 'DET'), ('Chemical', 'NOUN'), ('Securities', 'NOUN'), ('Inc.', 'NOUN'), ('group', 'NOUN'), ('*', 'X'), ('to', 'PRT'), ('yield', 'VERB'), ('from', 'ADP'), ('6.20', 'NUM'), ('%', 'NOUN'), ('in', 'ADP'), ('1991', 'NUM'), ('to', 'PRT'), ('7.272', 'NUM'), ('%', 'NOUN'), ('in', 'ADP'), ('2009', 'NUM'), ('.', '.')], [('``', '.'), ('They', 'PRON'), ('were', 'VERB'), ('a', 'DET'), ('self-perpetuating', 'ADJ'), ('club', 'NOUN'), ('that', 'DET'), ('*T*-229', 'X'), ('treated', 'VERB'), ('the', 'DET'), ('tower', 'NOUN'), ('as', 'ADP'), ('sort', 'NOUN'), ('of', 'ADP'), ('a', 'DET'), ('separate', 'ADJ'), ('premises', 'NOUN'), (',', '.'), (\"''\", '.'), ('the', 'DET'), ('Vicar', 'NOUN'), ('Hummerstone', 'NOUN'), ('says', 'VERB'), ('*T*-1', 'X'), ('.', '.')], [('Valley', 'NOUN'), ('Federal', 'NOUN'), ('Savings', 'NOUN'), ('&', 'CONJ'), ('Loan', 'NOUN'), ('Association', 'NOUN'), ('took', 'VERB'), ('an', 'DET'), ('$', '.'), ('89.9', 'NUM'), ('million', 'NUM'), ('*U*', 'X'), ('charge', 'NOUN'), ('as', 'ADP'), ('it', 'PRON'), ('reported', 'VERB'), ('a', 'DET'), ('third-quarter', 'NOUN'), ('loss', 'NOUN'), ('of', 'ADP'), ('$', '.'), ('70.7', 'NUM'), ('million', 'NUM'), ('*U*', 'X'), (',', '.'), ('or', 'CONJ'), ('$', '.'), ('12.09', 'NUM'), ('*U*', 'X'), ('a', 'DET'), ('share', 'NOUN'), ('.', '.')], [('``', '.'), ('The', 'DET'), ('Herald', 'NOUN'), ('was', 'VERB'), ('a', 'DET'), ('survivor', 'NOUN'), ('from', 'ADP'), ('a', 'DET'), ('bygone', 'ADJ'), ('age', 'NOUN'), (',', '.'), (\"''\", '.'), ('said', 'VERB'), ('*T*-1', 'X'), ('J.', 'NOUN'), ('Kendrick', 'NOUN'), ('Noble', 'NOUN'), (',', '.'), ('a', 'DET'), ('media', 'NOUN'), ('analyst', 'NOUN'), ('with', 'ADP'), ('PaineWebber', 'NOUN'), ('Inc', 'NOUN'), ('.', '.')], [('The', 'DET'), ('Midwest', 'NOUN'), ('Financial', 'NOUN'), ('subsidiary', 'NOUN'), ('banks', 'NOUN'), ('will', 'VERB'), ('continue', 'VERB'), ('*-1', 'X'), ('to', 'PRT'), ('operate', 'VERB'), ('under', 'ADP'), ('their', 'PRON'), ('current', 'ADJ'), ('names', 'NOUN'), ('until', 'ADP'), ('early', 'ADJ'), ('1990', 'NUM'), (',', '.'), ('when', 'ADV'), ('each', 'DET'), ('will', 'VERB'), ('adopt', 'VERB'), ('the', 'DET'), ('First', 'NOUN'), ('of', 'ADP'), ('America', 'NOUN'), ('name', 'NOUN'), ('*T*-2', 'X'), ('.', '.')], [('But', 'CONJ'), ('many', 'ADJ'), ('banks', 'NOUN'), ('are', 'VERB'), ('turning', 'VERB'), ('away', 'ADV'), ('from', 'ADP'), ('strict', 'ADJ'), ('price', 'NOUN'), ('competition', 'NOUN'), ('.', '.')], [('And', 'CONJ'), ('I', 'PRON'), ('apparently', 'ADV'), ('had', 'VERB'), ('no', 'DET'), ('right', 'NOUN'), ('*', 'X'), ('to', 'PRT'), ('print', 'VERB'), ('hither', 'ADV'), ('what', 'PRON'), ('the', 'DET'), ('Voice', 'NOUN'), ('was', 'VERB'), ('booming', 'VERB'), ('*T*-2', 'X'), ('to', 'PRT'), ('yon', 'ADV'), ('.', '.')], [('However', 'ADV'), (',', '.'), ('none', 'NOUN'), ('of', 'ADP'), ('the', 'DET'), ('big', 'ADJ'), ('three', 'NUM'), ('weeklies', 'NOUN'), ('recorded', 'VERB'), ('circulation', 'NOUN'), ('gains', 'NOUN'), ('recently', 'ADV'), ('.', '.')], [('Both', 'DET'), ('indicators', 'NOUN'), ('were', 'VERB'), ('viewed', 'VERB'), ('*-1', 'X'), ('as', 'ADP'), ('signs', 'NOUN'), ('that', 'ADP'), ('the', 'DET'), ('nation', 'NOUN'), (\"'s\", 'PRT'), ('industrial', 'ADJ'), ('sector', 'NOUN'), ('is', 'VERB'), ('growing', 'VERB'), ('very', 'ADV'), ('slowly', 'ADV'), (',', '.'), ('if', 'ADP'), ('at', 'ADP'), ('all', 'DET'), ('.', '.')], [('A', 'DET'), ('second', 'ADJ'), ('ship', 'NOUN'), ('is', 'VERB'), ('now', 'ADV'), ('expected', 'VERB'), ('*-2', 'X'), ('to', 'PRT'), ('be', 'VERB'), ('delivered', 'VERB'), ('*-1', 'X'), ('late', 'ADJ'), ('next', 'ADJ'), ('year', 'NOUN'), ('or', 'CONJ'), ('early', 'ADV'), ('in', 'ADP'), ('1991', 'NUM'), ('.', '.')], [('In', 'ADP'), ('October', 'NOUN'), ('1988', 'NUM'), (',', '.'), ('21.1', 'NUM'), ('%', 'NOUN'), ('said', 'VERB'), ('0', 'X'), ('business', 'NOUN'), ('conditions', 'NOUN'), ('would', 'VERB'), ('improve', 'VERB'), ('.', '.')], [('The', 'DET'), ('announcement', 'NOUN'), ('follows', 'VERB'), ('a', 'DET'), ('sharper', 'ADJ'), ('$', '.'), ('2.2', 'NUM'), ('billion', 'NUM'), ('*U*', 'X'), ('decline', 'NOUN'), ('in', 'ADP'), ('the', 'DET'), ('country', 'NOUN'), (\"'s\", 'PRT'), ('foreign', 'ADJ'), ('reserves', 'NOUN'), ('in', 'ADP'), ('September', 'NOUN'), ('to', 'PRT'), ('$', '.'), ('86.12', 'NUM'), ('billion', 'NUM'), ('*U*', 'X'), ('.', '.')], [('Michael', 'NOUN'), ('Henderson', 'NOUN'), (',', '.'), ('51-year-old', 'ADJ'), ('group', 'NOUN'), ('chief', 'NOUN'), ('executive', 'NOUN'), ('of', 'ADP'), ('this', 'DET'), ('U.K.', 'NOUN'), ('metals', 'NOUN'), ('and', 'CONJ'), ('industrial', 'ADJ'), ('materials', 'NOUN'), ('maker', 'NOUN'), (',', '.'), ('will', 'VERB'), ('become', 'VERB'), ('chairman', 'NOUN'), ('in', 'ADP'), ('May', 'NOUN'), (',', '.'), ('*-1', 'X'), ('succeeding', 'VERB'), ('Ian', 'NOUN'), ('Butler', 'NOUN'), (',', '.'), ('64', 'NUM'), (',', '.'), ('who', 'PRON'), ('*T*-161', 'X'), ('is', 'VERB'), ('retiring', 'VERB'), ('.', '.')], [('Partly', 'ADV'), ('because', 'ADP'), ('of', 'ADP'), ('worries', 'NOUN'), ('about', 'ADP'), ('potential', 'ADJ'), ('abuse', 'NOUN'), (',', '.'), ('however', 'ADV'), (',', '.'), ('he', 'PRON'), ('says', 'VERB'), ('0', 'X'), ('the', 'DET'), ('state', 'NOUN'), ('will', 'VERB'), ('begin', 'VERB'), ('*-1', 'X'), ('keeping', 'VERB'), ('closer', 'ADJ'), ('track', 'NOUN'), ('of', 'ADP'), ('achievement-test', 'NOUN'), ('preparation', 'NOUN'), ('booklets', 'NOUN'), ('next', 'ADJ'), ('spring', 'NOUN'), ('.', '.')], [('He', 'PRON'), ('succeeds', 'VERB'), ('Terrence', 'NOUN'), ('D.', 'NOUN'), ('Daniels', 'NOUN'), (',', '.'), ('formerly', 'ADV'), ('a', 'DET'), ('W.R.', 'NOUN'), ('Grace', 'NOUN'), ('vice', 'NOUN'), ('chairman', 'NOUN'), (',', '.'), ('who', 'PRON'), ('*T*-11', 'X'), ('resigned', 'VERB'), ('.', '.')], [('Scientists', 'NOUN'), ('had', 'VERB'), ('obtained', 'VERB'), ('even', 'ADV'), ('higher', 'ADJ'), ('current-carrying', 'ADJ'), ('capacity', 'NOUN'), ('in', 'ADP'), ('thin', 'ADJ'), ('films', 'NOUN'), ('of', 'ADP'), ('the', 'DET'), ('new', 'ADJ'), ('superconductors', 'NOUN'), (',', '.'), ('but', 'CONJ'), ('have', 'VERB'), ('had', 'VERB'), ('problems', 'NOUN'), ('*-2', 'X'), ('increasing', 'VERB'), ('the', 'DET'), ('amount', 'NOUN'), ('of', 'ADP'), ('current', 'NOUN'), ('that', 'ADP'), ('bulk', 'NOUN'), ('crystals', 'NOUN'), ('could', 'VERB'), ('carry', 'VERB'), ('*T*-1', 'X'), ('.', '.')], [('USX', 'NOUN'), ('was', 'VERB'), ('cited', 'VERB'), ('*-1', 'X'), ('by', 'ADP'), ('OSHA', 'NOUN'), ('for', 'ADP'), ('several', 'ADJ'), ('health', 'NOUN'), ('and', 'CONJ'), ('safety', 'NOUN'), ('violations', 'NOUN'), ('at', 'ADP'), ('two', 'NUM'), ('Pennsylvania', 'NOUN'), ('plants', 'NOUN'), ('and', 'CONJ'), ('may', 'VERB'), ('face', 'VERB'), ('a', 'DET'), ('record', 'NOUN'), ('fine', 'NOUN'), ('of', 'ADP'), ('$', '.'), ('7.3', 'NUM'), ('million', 'NUM'), ('*U*', 'X'), ('.', '.')], [('Stock-index', 'NOUN'), ('futures', 'NOUN'), ('--', '.'), ('Contracts', 'NOUN'), ('*', 'X'), ('to', 'PRT'), ('buy', 'VERB'), ('or', 'CONJ'), ('sell', 'VERB'), ('the', 'DET'), ('cash', 'NOUN'), ('value', 'NOUN'), ('of', 'ADP'), ('a', 'DET'), ('stock', 'NOUN'), ('index', 'NOUN'), ('by', 'ADP'), ('a', 'DET'), ('certain', 'ADJ'), ('date', 'NOUN'), ('.', '.')], [('The', 'DET'), ('idea', 'NOUN'), (',', '.'), ('of', 'ADP'), ('course', 'NOUN'), (':', '.'), ('*', 'X'), ('to', 'PRT'), ('prove', 'VERB'), ('to', 'PRT'), ('125', 'NUM'), ('corporate', 'ADJ'), ('decision', 'NOUN'), ('makers', 'NOUN'), ('that', 'ADP'), ('the', 'DET'), ('buckle', 'NOUN'), ('on', 'ADP'), ('the', 'DET'), ('Rust', 'NOUN'), ('Belt', 'NOUN'), ('is', 'VERB'), (\"n't\", 'ADV'), ('so', 'ADV'), ('rusty', 'ADJ'), ('after', 'ADP'), ('all', 'DET'), (',', '.'), ('that', 'ADP'), ('it', 'PRON'), (\"'s\", 'VERB'), ('a', 'DET'), ('good', 'ADJ'), ('place', 'NOUN'), ('0', 'X'), ('for', 'ADP'), ('a', 'DET'), ('company', 'NOUN'), ('to', 'PRT'), ('expand', 'VERB'), ('*T*-1', 'X'), ('.', '.')]]\n"
     ]
    }
   ],
   "source": [
    "# Splitting into train and testing set\n",
    "random.seed(100)\n",
    "train_set, test_set = train_test_split(nltk_data,train_size=0.95,test_size=0.05, random_state=42)\n",
    "\n",
    "print(len(train_set))\n",
    "print(len(test_set))\n",
    "print(train_set[:20])"
   ]
  },
  {
   "cell_type": "code",
   "execution_count": 237,
   "metadata": {},
   "outputs": [
    {
     "name": "stdout",
     "output_type": "stream",
     "text": [
      "Total Tagged words 95589\n"
     ]
    },
    {
     "data": {
      "text/plain": [
       "[('Bank', 'NOUN'),\n",
       " ('of', 'ADP'),\n",
       " ('New', 'NOUN'),\n",
       " ('England', 'NOUN'),\n",
       " (\"'s\", 'PRT'),\n",
       " ('shares', 'NOUN'),\n",
       " ('are', 'VERB'),\n",
       " ('traded', 'VERB'),\n",
       " ('*-1', 'X'),\n",
       " ('on', 'ADP')]"
      ]
     },
     "execution_count": 237,
     "metadata": {},
     "output_type": "execute_result"
    }
   ],
   "source": [
    "# Getting list of tagged words\n",
    "train_tagged_words = [tup for sent in train_set for tup in sent]\n",
    "print(\"Total Tagged words {}\".format(len(train_tagged_words)))\n",
    "# tokens \n",
    "tokens = [pair for pair in train_tagged_words]\n",
    "tokens[:10]"
   ]
  },
  {
   "cell_type": "code",
   "execution_count": 238,
   "metadata": {},
   "outputs": [
    {
     "name": "stdout",
     "output_type": "stream",
     "text": [
      "Words in Vocabulary 12109\n",
      "Number of Tags 12\n",
      "{'DET', 'ADV', 'ADJ', 'VERB', 'X', 'PRT', 'CONJ', 'ADP', 'PRON', '.', 'NUM', 'NOUN'}\n"
     ]
    }
   ],
   "source": [
    "# vocabulary\n",
    "tokens = [pair[0] for pair in train_tagged_words]\n",
    "V = set(tokens)\n",
    "print(\"Words in Vocabulary {}\".format(len(V)))\n",
    "# number of tags\n",
    "T = set([pair[1] for pair in train_tagged_words])\n",
    "print(\"Number of Tags {}\".format(len(T)))\n",
    "print(T)"
   ]
  },
  {
   "cell_type": "markdown",
   "metadata": {},
   "source": [
    "### Build the vanilla Viterbi based POS tagger"
   ]
  },
  {
   "cell_type": "markdown",
   "metadata": {},
   "source": [
    "### 1.  POS Tagging Algorithm - HMM"
   ]
  },
  {
   "cell_type": "markdown",
   "metadata": {},
   "source": [
    "#### 1.1 Emission Probabilities"
   ]
  },
  {
   "cell_type": "code",
   "execution_count": 239,
   "metadata": {},
   "outputs": [],
   "source": [
    "# computing P(w/t) and storing in T x V matrix\n",
    "t = len(T)\n",
    "v = len(V)\n",
    "w_given_t = np.zeros((t, v))\n",
    "\n",
    "# compute word given tag: Emission Probability\n",
    "def word_given_tag(word, tag, train_bag = train_tagged_words):\n",
    "    tag_list = [pair for pair in train_bag if pair[1]==tag]\n",
    "    count_tag = len(tag_list)\n",
    "    w_given_tag_list = [pair[0] for pair in tag_list if pair[0]==word]\n",
    "    count_w_given_tag = len(w_given_tag_list)\n",
    "    \n",
    "    return (count_w_given_tag, count_tag)"
   ]
  },
  {
   "cell_type": "code",
   "execution_count": 240,
   "metadata": {},
   "outputs": [
    {
     "name": "stdout",
     "output_type": "stream",
     "text": [
      "\n",
      " large\n",
      "(27, 6077)\n",
      "(0, 12885)\n",
      "(0, 27423) \n",
      "\n",
      "\n",
      " will\n",
      "(0, 3010)\n",
      "(1, 27423)\n",
      "(268, 12885)\n",
      "\n",
      " book\n",
      "(7, 27423)\n",
      "(1, 12885)\n"
     ]
    }
   ],
   "source": [
    "# examples\n",
    "\n",
    "# large\n",
    "print(\"\\n\", \"large\")\n",
    "print(word_given_tag('large', 'ADJ'))\n",
    "print(word_given_tag('large', 'VERB'))\n",
    "print(word_given_tag('large', 'NOUN'), \"\\n\")\n",
    "\n",
    "# will\n",
    "print(\"\\n\", \"will\")\n",
    "print(word_given_tag('will', 'ADV'))\n",
    "print(word_given_tag('will', 'NOUN'))\n",
    "print(word_given_tag('will', 'VERB'))\n",
    "\n",
    "# book\n",
    "print(\"\\n\", \"book\")\n",
    "print(word_given_tag('book', 'NOUN'))\n",
    "print(word_given_tag('book', 'VERB'))"
   ]
  },
  {
   "cell_type": "markdown",
   "metadata": {},
   "source": [
    "### Inference:\n",
    "- Large is tagged 6 times as adjectives\n",
    "- Will is tagged 267 times as verb and 1 time as noun. \n",
    "- Book is tagged 6 times as noun and 1 time as a verb."
   ]
  },
  {
   "cell_type": "markdown",
   "metadata": {},
   "source": [
    "#### 1.2 Transition Probabilities\n"
   ]
  },
  {
   "cell_type": "code",
   "execution_count": 241,
   "metadata": {},
   "outputs": [
    {
     "name": "stdout",
     "output_type": "stream",
     "text": [
      "(4234, 6077)\n",
      "(5302, 8284)\n",
      "(1429, 12885)\n",
      "(0, 2131)\n",
      "(1150, 27423)\n",
      "(4058, 27423)\n",
      "(467, 12885)\n"
     ]
    }
   ],
   "source": [
    "# compute tag given tag: tag2(t2) given tag1 (t1), i.e. Transition Probability\n",
    "\n",
    "def t2_given_t1(t2, t1, train_bag = train_tagged_words):\n",
    "    tags = [pair[1] for pair in train_bag]\n",
    "    count_t1 = len([t for t in tags if t==t1])\n",
    "    count_t2_t1 = 0\n",
    "    for index in range(len(tags)-1):\n",
    "        if tags[index]==t1 and tags[index+1] == t2:\n",
    "            count_t2_t1 += 1\n",
    "    return (count_t2_t1, count_t1)\n",
    "\n",
    "\n",
    "# examples\n",
    "print(t2_given_t1(t2='NOUN', t1='ADJ'))\n",
    "print(t2_given_t1('NOUN', 'DET'))\n",
    "print(t2_given_t1('NOUN', 'VERB'))\n",
    "print(t2_given_t1(',', 'CONJ'))\n",
    "print(t2_given_t1('CONJ', 'NOUN'))\n",
    "print(t2_given_t1('VERB', 'NOUN'))\n",
    "print(t2_given_t1('PRON', 'VERB'))"
   ]
  },
  {
   "cell_type": "code",
   "execution_count": 242,
   "metadata": {},
   "outputs": [
    {
     "data": {
      "text/html": [
       "<div>\n",
       "<style scoped>\n",
       "    .dataframe tbody tr th:only-of-type {\n",
       "        vertical-align: middle;\n",
       "    }\n",
       "\n",
       "    .dataframe tbody tr th {\n",
       "        vertical-align: top;\n",
       "    }\n",
       "\n",
       "    .dataframe thead th {\n",
       "        text-align: right;\n",
       "    }\n",
       "</style>\n",
       "<table border=\"1\" class=\"dataframe\">\n",
       "  <thead>\n",
       "    <tr style=\"text-align: right;\">\n",
       "      <th></th>\n",
       "      <th>DET</th>\n",
       "      <th>ADV</th>\n",
       "      <th>ADJ</th>\n",
       "      <th>VERB</th>\n",
       "      <th>X</th>\n",
       "      <th>PRT</th>\n",
       "      <th>CONJ</th>\n",
       "      <th>ADP</th>\n",
       "      <th>PRON</th>\n",
       "      <th>.</th>\n",
       "      <th>NUM</th>\n",
       "      <th>NOUN</th>\n",
       "    </tr>\n",
       "  </thead>\n",
       "  <tbody>\n",
       "    <tr>\n",
       "      <th>DET</th>\n",
       "      <td>0.005311</td>\n",
       "      <td>0.012313</td>\n",
       "      <td>0.204973</td>\n",
       "      <td>0.038387</td>\n",
       "      <td>0.045509</td>\n",
       "      <td>0.000241</td>\n",
       "      <td>0.000483</td>\n",
       "      <td>0.009054</td>\n",
       "      <td>0.003742</td>\n",
       "      <td>0.017986</td>\n",
       "      <td>0.021970</td>\n",
       "      <td>0.640029</td>\n",
       "    </tr>\n",
       "    <tr>\n",
       "      <th>ADV</th>\n",
       "      <td>0.067110</td>\n",
       "      <td>0.081063</td>\n",
       "      <td>0.130233</td>\n",
       "      <td>0.344518</td>\n",
       "      <td>0.023588</td>\n",
       "      <td>0.013621</td>\n",
       "      <td>0.006312</td>\n",
       "      <td>0.119601</td>\n",
       "      <td>0.015615</td>\n",
       "      <td>0.136877</td>\n",
       "      <td>0.030565</td>\n",
       "      <td>0.030897</td>\n",
       "    </tr>\n",
       "    <tr>\n",
       "      <th>ADJ</th>\n",
       "      <td>0.005101</td>\n",
       "      <td>0.004608</td>\n",
       "      <td>0.066645</td>\n",
       "      <td>0.012342</td>\n",
       "      <td>0.021392</td>\n",
       "      <td>0.010861</td>\n",
       "      <td>0.016949</td>\n",
       "      <td>0.078986</td>\n",
       "      <td>0.000658</td>\n",
       "      <td>0.065328</td>\n",
       "      <td>0.020405</td>\n",
       "      <td>0.696725</td>\n",
       "    </tr>\n",
       "    <tr>\n",
       "      <th>VERB</th>\n",
       "      <td>0.133101</td>\n",
       "      <td>0.082577</td>\n",
       "      <td>0.064649</td>\n",
       "      <td>0.169189</td>\n",
       "      <td>0.218005</td>\n",
       "      <td>0.031121</td>\n",
       "      <td>0.005588</td>\n",
       "      <td>0.090493</td>\n",
       "      <td>0.036244</td>\n",
       "      <td>0.035312</td>\n",
       "      <td>0.022817</td>\n",
       "      <td>0.110904</td>\n",
       "    </tr>\n",
       "    <tr>\n",
       "      <th>X</th>\n",
       "      <td>0.055131</td>\n",
       "      <td>0.025175</td>\n",
       "      <td>0.016571</td>\n",
       "      <td>0.203633</td>\n",
       "      <td>0.076482</td>\n",
       "      <td>0.185787</td>\n",
       "      <td>0.010357</td>\n",
       "      <td>0.142925</td>\n",
       "      <td>0.056087</td>\n",
       "      <td>0.163799</td>\n",
       "      <td>0.002709</td>\n",
       "      <td>0.061345</td>\n",
       "    </tr>\n",
       "    <tr>\n",
       "      <th>PRT</th>\n",
       "      <td>0.100360</td>\n",
       "      <td>0.010134</td>\n",
       "      <td>0.086303</td>\n",
       "      <td>0.402746</td>\n",
       "      <td>0.013403</td>\n",
       "      <td>0.001635</td>\n",
       "      <td>0.002288</td>\n",
       "      <td>0.021576</td>\n",
       "      <td>0.018960</td>\n",
       "      <td>0.041517</td>\n",
       "      <td>0.058516</td>\n",
       "      <td>0.242563</td>\n",
       "    </tr>\n",
       "    <tr>\n",
       "      <th>CONJ</th>\n",
       "      <td>0.121539</td>\n",
       "      <td>0.055842</td>\n",
       "      <td>0.116847</td>\n",
       "      <td>0.153918</td>\n",
       "      <td>0.007977</td>\n",
       "      <td>0.004693</td>\n",
       "      <td>0.000469</td>\n",
       "      <td>0.054435</td>\n",
       "      <td>0.058658</td>\n",
       "      <td>0.034256</td>\n",
       "      <td>0.042234</td>\n",
       "      <td>0.349132</td>\n",
       "    </tr>\n",
       "    <tr>\n",
       "      <th>ADP</th>\n",
       "      <td>0.326378</td>\n",
       "      <td>0.013162</td>\n",
       "      <td>0.105297</td>\n",
       "      <td>0.008240</td>\n",
       "      <td>0.034029</td>\n",
       "      <td>0.001498</td>\n",
       "      <td>0.000856</td>\n",
       "      <td>0.017228</td>\n",
       "      <td>0.069128</td>\n",
       "      <td>0.039486</td>\n",
       "      <td>0.062921</td>\n",
       "      <td>0.321776</td>\n",
       "    </tr>\n",
       "    <tr>\n",
       "      <th>PRON</th>\n",
       "      <td>0.009549</td>\n",
       "      <td>0.033995</td>\n",
       "      <td>0.074866</td>\n",
       "      <td>0.480901</td>\n",
       "      <td>0.092819</td>\n",
       "      <td>0.012223</td>\n",
       "      <td>0.004966</td>\n",
       "      <td>0.022918</td>\n",
       "      <td>0.008021</td>\n",
       "      <td>0.041253</td>\n",
       "      <td>0.007257</td>\n",
       "      <td>0.211230</td>\n",
       "    </tr>\n",
       "    <tr>\n",
       "      <th>.</th>\n",
       "      <td>0.173502</td>\n",
       "      <td>0.052078</td>\n",
       "      <td>0.044972</td>\n",
       "      <td>0.088505</td>\n",
       "      <td>0.026623</td>\n",
       "      <td>0.002339</td>\n",
       "      <td>0.057924</td>\n",
       "      <td>0.091114</td>\n",
       "      <td>0.065389</td>\n",
       "      <td>0.093812</td>\n",
       "      <td>0.080500</td>\n",
       "      <td>0.223152</td>\n",
       "    </tr>\n",
       "    <tr>\n",
       "      <th>NUM</th>\n",
       "      <td>0.003271</td>\n",
       "      <td>0.002974</td>\n",
       "      <td>0.034196</td>\n",
       "      <td>0.017544</td>\n",
       "      <td>0.206661</td>\n",
       "      <td>0.027951</td>\n",
       "      <td>0.013381</td>\n",
       "      <td>0.034790</td>\n",
       "      <td>0.001487</td>\n",
       "      <td>0.118347</td>\n",
       "      <td>0.184062</td>\n",
       "      <td>0.355338</td>\n",
       "    </tr>\n",
       "    <tr>\n",
       "      <th>NOUN</th>\n",
       "      <td>0.013310</td>\n",
       "      <td>0.016884</td>\n",
       "      <td>0.012289</td>\n",
       "      <td>0.147978</td>\n",
       "      <td>0.029136</td>\n",
       "      <td>0.043832</td>\n",
       "      <td>0.041936</td>\n",
       "      <td>0.176275</td>\n",
       "      <td>0.004923</td>\n",
       "      <td>0.239179</td>\n",
       "      <td>0.009627</td>\n",
       "      <td>0.264632</td>\n",
       "    </tr>\n",
       "  </tbody>\n",
       "</table>\n",
       "</div>"
      ],
      "text/plain": [
       "           DET       ADV       ADJ      VERB         X       PRT      CONJ  \\\n",
       "DET   0.005311  0.012313  0.204973  0.038387  0.045509  0.000241  0.000483   \n",
       "ADV   0.067110  0.081063  0.130233  0.344518  0.023588  0.013621  0.006312   \n",
       "ADJ   0.005101  0.004608  0.066645  0.012342  0.021392  0.010861  0.016949   \n",
       "VERB  0.133101  0.082577  0.064649  0.169189  0.218005  0.031121  0.005588   \n",
       "X     0.055131  0.025175  0.016571  0.203633  0.076482  0.185787  0.010357   \n",
       "PRT   0.100360  0.010134  0.086303  0.402746  0.013403  0.001635  0.002288   \n",
       "CONJ  0.121539  0.055842  0.116847  0.153918  0.007977  0.004693  0.000469   \n",
       "ADP   0.326378  0.013162  0.105297  0.008240  0.034029  0.001498  0.000856   \n",
       "PRON  0.009549  0.033995  0.074866  0.480901  0.092819  0.012223  0.004966   \n",
       ".     0.173502  0.052078  0.044972  0.088505  0.026623  0.002339  0.057924   \n",
       "NUM   0.003271  0.002974  0.034196  0.017544  0.206661  0.027951  0.013381   \n",
       "NOUN  0.013310  0.016884  0.012289  0.147978  0.029136  0.043832  0.041936   \n",
       "\n",
       "           ADP      PRON         .       NUM      NOUN  \n",
       "DET   0.009054  0.003742  0.017986  0.021970  0.640029  \n",
       "ADV   0.119601  0.015615  0.136877  0.030565  0.030897  \n",
       "ADJ   0.078986  0.000658  0.065328  0.020405  0.696725  \n",
       "VERB  0.090493  0.036244  0.035312  0.022817  0.110904  \n",
       "X     0.142925  0.056087  0.163799  0.002709  0.061345  \n",
       "PRT   0.021576  0.018960  0.041517  0.058516  0.242563  \n",
       "CONJ  0.054435  0.058658  0.034256  0.042234  0.349132  \n",
       "ADP   0.017228  0.069128  0.039486  0.062921  0.321776  \n",
       "PRON  0.022918  0.008021  0.041253  0.007257  0.211230  \n",
       ".     0.091114  0.065389  0.093812  0.080500  0.223152  \n",
       "NUM   0.034790  0.001487  0.118347  0.184062  0.355338  \n",
       "NOUN  0.176275  0.004923  0.239179  0.009627  0.264632  "
      ]
     },
     "execution_count": 242,
     "metadata": {},
     "output_type": "execute_result"
    }
   ],
   "source": [
    "# creating t x t transition matrix of tags\n",
    "# each column is t2, each row is t1\n",
    "# thus M(i, j) represents P(tj given ti)\n",
    "\n",
    "tags_matrix = np.zeros((len(T), len(T)), dtype='float32')\n",
    "for i, t1 in enumerate(list(T)):\n",
    "    for j, t2 in enumerate(list(T)): \n",
    "        tags_matrix[i, j] = t2_given_t1(t2, t1)[0]/t2_given_t1(t2, t1)[1]\n",
    "\n",
    "# convert the matrix to a df for better readability\n",
    "tags_df = pd.DataFrame(tags_matrix, columns = list(T), index=list(T))\n",
    "tags_df"
   ]
  },
  {
   "cell_type": "code",
   "execution_count": 243,
   "metadata": {},
   "outputs": [
    {
     "data": {
      "text/plain": [
       "DET     0.173502\n",
       "ADV     0.052078\n",
       "ADJ     0.044972\n",
       "VERB    0.088505\n",
       "X       0.026623\n",
       "PRT     0.002339\n",
       "CONJ    0.057924\n",
       "ADP     0.091114\n",
       "PRON    0.065389\n",
       ".       0.093812\n",
       "NUM     0.080500\n",
       "NOUN    0.223152\n",
       "Name: ., dtype: float32"
      ]
     },
     "execution_count": 243,
     "metadata": {},
     "output_type": "execute_result"
    }
   ],
   "source": [
    "tags_df.loc['.', :]"
   ]
  },
  {
   "cell_type": "code",
   "execution_count": 244,
   "metadata": {},
   "outputs": [
    {
     "data": {
      "image/png": "[encoded data removed]",
      "text/plain": [
       "<Figure size 1296x864 with 2 Axes>"
      ]
     },
     "metadata": {
      "needs_background": "light"
     },
     "output_type": "display_data"
    }
   ],
   "source": [
    "# heatmap of tags matrix\n",
    "# T(i, j) means P(tag j given tag i)\n",
    "plt.figure(figsize=(18, 12))\n",
    "sns.heatmap(tags_df, annot=True)\n",
    "plt.show()"
   ]
  },
  {
   "cell_type": "markdown",
   "metadata": {},
   "source": [
    "### Inferences:\n",
    "\n",
    "We can clearly see as most of the times 'det' and 'adj' are followed by 'noun', they have the highest corelation.\n"
   ]
  },
  {
   "cell_type": "markdown",
   "metadata": {},
   "source": [
    "#### 1.3 Viterbi Algorithm\n",
    "\n",
    "Let's now use the computed probabilities P(w, tag) and P(t2, t1) to assign tags to each word in the document. We'll run through each word w and compute P(tag/w)=P(w/tag).P(tag) for each tag in the tag set, and then assign the tag having the max P(tag/w).\n",
    "\n",
    "We'll store the assigned tags in a list of tuples, similar to the list 'train_tagged_words'. Each tuple will be a (token, assigned_tag). As we progress further in the list, each tag to be assigned will use the tag of the previous token.\n",
    "\n",
    "Note: P(tag|start) = P(tag|'.') "
   ]
  },
  {
   "cell_type": "code",
   "execution_count": 245,
   "metadata": {},
   "outputs": [],
   "source": [
    "# Viterbi Heuristic\n",
    "def Viterbi(words, train_bag = train_tagged_words):\n",
    "    state = []\n",
    "    T = list(set([pair[1] for pair in train_bag]))\n",
    "    \n",
    "    for key, word in enumerate(words):\n",
    "        #initialise list of probability column for a given observation\n",
    "        p = [] \n",
    "        for tag in T:\n",
    "            if key == 0:\n",
    "                transition_p = tags_df.loc['.', tag]\n",
    "            else:\n",
    "                transition_p = tags_df.loc[state[-1], tag]\n",
    "                \n",
    "            # compute emission and state probabilities\n",
    "            emission_p = word_given_tag(words[key], tag)[0]/word_given_tag(words[key], tag)[1]\n",
    "            state_probability = emission_p * transition_p    \n",
    "            p.append(state_probability)\n",
    "            \n",
    "        pmax = max(p)\n",
    "        # getting state for which probability is maximum\n",
    "        state_max = T[p.index(pmax)] \n",
    "        state.append(state_max)\n",
    "    return list(zip(words, state))\n",
    "\n"
   ]
  },
  {
   "cell_type": "markdown",
   "metadata": {},
   "source": [
    "### 1.4 Evaluating on test set"
   ]
  },
  {
   "cell_type": "code",
   "execution_count": 246,
   "metadata": {},
   "outputs": [
    {
     "data": {
      "text/plain": [
       "['Shearson', '``', 'really', 'only', 'has', '$', '300', 'million', '*U*', 'of']"
      ]
     },
     "execution_count": 246,
     "metadata": {},
     "output_type": "execute_result"
    }
   ],
   "source": [
    "# Running on entire test dataset would take more than 3-4hrs. \n",
    "# Let's test our Viterbi algorithm on a few sample sentences of test dataset\n",
    "\n",
    "random.seed(1234)\n",
    "\n",
    "# choose random 5 sents\n",
    "rndom = [random.randint(1,len(test_set)) for x in range(10)]\n",
    "\n",
    "# list of sents\n",
    "test_run = [test_set[i] for i in rndom]\n",
    "\n",
    "# list of tagged words\n",
    "test_run_base = [tup for sent in test_run for tup in sent]\n",
    "\n",
    "# list of untagged words\n",
    "test_tagged_words = [tup[0] for sent in test_run for tup in sent]\n",
    "test_tagged_words[:10]"
   ]
  },
  {
   "cell_type": "code",
   "execution_count": 247,
   "metadata": {},
   "outputs": [],
   "source": [
    "# tagging the test sentences\n",
    "start = time.time()\n",
    "tagged_seq = Viterbi(test_tagged_words)\n",
    "end = time.time()\n",
    "difference = end-start"
   ]
  },
  {
   "cell_type": "code",
   "execution_count": 248,
   "metadata": {},
   "outputs": [
    {
     "name": "stdout",
     "output_type": "stream",
     "text": [
      "Time taken in seconds:  75.7879958152771\n",
      "[('Shearson', 'NOUN'), ('``', '.'), ('really', 'ADV'), ('only', 'ADV'), ('has', 'VERB'), ('$', '.'), ('300', 'NUM'), ('million', 'NUM'), ('*U*', 'X'), ('of', 'ADP'), ('capital', 'NOUN'), (',', '.'), (\"''\", '.'), ('says', 'VERB'), ('*T*-1', 'X'), ('Mr.', 'NOUN'), ('Bowman', 'NOUN'), ('of', 'ADP'), ('S&P', 'NOUN'), ('.', '.'), ('ShareData', 'NOUN'), ('develops', 'DET'), ('and', 'CONJ'), ('markets', 'NOUN'), ('low-cost', 'DET'), ('software', 'NOUN'), (',', '.'), ('peripheral', 'ADJ'), ('equipment', 'NOUN'), ('and', 'CONJ'), ('accessories', 'NOUN'), ('for', 'ADP'), ('computers', 'NOUN'), ('.', '.'), ('Moscow', 'NOUN'), ('has', 'VERB'), ('settled', 'VERB'), ('pre-1917', 'DET'), ('debts', 'NOUN'), ('with', 'ADP'), ('other', 'ADJ'), ('countries', 'NOUN'), ('in', 'ADP'), ('recent', 'ADJ'), ('years', 'NOUN'), ('at', 'ADP'), ('less', 'ADJ'), ('than', 'ADP'), ('face', 'NOUN'), ('value', 'NOUN'), ('.', '.'), ('When', 'ADV'), ('test', 'VERB'), ('booklets', 'NOUN'), ('were', 'VERB'), ('passed', 'VERB'), ('*-1', 'X'), ('out', 'PRT'), ('48', 'NUM'), ('hours', 'NOUN'), ('ahead', 'ADV'), ('of', 'ADP'), ('time', 'NOUN'), ('*T*-2', 'X'), (',', '.'), ('she', 'PRON'), ('says', 'VERB'), ('0', 'X'), ('she', 'PRON'), ('copied', 'DET'), ('questions', 'NOUN'), ('in', 'ADP'), ('the', 'DET'), ('social', 'ADJ'), ('studies', 'NOUN'), ('section', 'NOUN'), ('and', 'CONJ'), ('gave', 'VERB'), ('the', 'DET'), ('answers', 'NOUN'), ('to', 'PRT'), ('students', 'NOUN'), ('.', '.'), ('The', 'DET'), ('Life', 'NOUN'), ('Insurance', 'NOUN'), ('Co.', 'NOUN'), ('of', 'ADP'), ('Georgia', 'NOUN'), ('has', 'VERB'), ('officially', 'ADV'), ('opened', 'VERB'), ('an', 'DET'), ('office', 'NOUN'), ('in', 'ADP'), ('Taipei', 'NOUN'), ('.', '.'), ('Big', 'NOUN'), ('Board', 'NOUN'), ('volume', 'NOUN'), ('totaled', 'VERB'), ('154.2', 'DET'), ('million', 'NUM'), ('shares', 'NOUN'), ('.', '.'), ('All', 'DET'), ('of', 'ADP'), ('this', 'DET'), ('must', 'VERB'), ('have', 'VERB'), ('been', 'VERB'), ('enormously', 'DET'), ('frustrating', 'DET'), ('to', 'PRT'), ('Mr.', 'NOUN'), ('Katzenstein', 'NOUN'), (',', '.'), ('who', 'PRON'), ('*T*-59', 'X'), ('went', 'VERB'), ('to', 'PRT'), ('Sony', 'NOUN'), ('with', 'ADP'), ('degrees', 'NOUN'), ('in', 'ADP'), ('business', 'NOUN'), ('and', 'CONJ'), ('computer', 'NOUN'), ('science', 'DET'), ('and', 'CONJ'), ('was', 'VERB'), ('raring', 'DET'), ('*-1', 'X'), ('to', 'PRT'), ('invent', 'DET'), ('another', 'DET'), ('Walkman', 'DET'), ('.', '.'), ('USX', 'NOUN'), ('announced', 'VERB'), ('in', 'ADP'), ('October', 'NOUN'), ('that', 'ADP'), ('it', 'PRON'), ('was', 'VERB'), ('soliciting', 'DET'), ('bids', 'NOUN'), ('*', 'X'), ('to', 'PRT'), ('sell', 'VERB'), ('TXO', 'DET'), (\"'s\", 'VERB'), ('oil', 'NOUN'), ('and', 'CONJ'), ('gas', 'NOUN'), ('reserves', 'NOUN'), ('.', '.'), ('That', 'DET'), ('followed', 'VERB'), ('four', 'NUM'), ('straight', 'ADJ'), ('months', 'NOUN'), ('in', 'ADP'), ('which', 'DET'), ('the', 'DET'), ('number', 'NOUN'), ('of', 'ADP'), ('increases', 'NOUN'), ('trailed', 'VERB'), ('the', 'DET'), ('year-earlier', 'ADJ'), ('pace', 'NOUN'), ('*T*-1', 'X'), ('.', '.'), ('Imports', 'NOUN'), ('of', 'ADP'), ('manmade-fiber', 'DET'), ('sweaters', 'NOUN'), ('in', 'ADP'), ('1988', 'NUM'), ('totaled', 'VERB'), ('about', 'ADP'), ('$', '.'), ('405', 'DET'), ('million', 'NUM'), ('*U*', 'X'), ('from', 'ADP'), ('Taiwan', 'NOUN'), (',', '.'), ('$', '.'), ('400', 'NUM'), ('million', 'NUM'), ('*U*', 'X'), ('from', 'ADP'), ('South', 'NOUN'), ('Korea', 'NOUN'), ('and', 'CONJ'), ('$', '.'), ('125', 'NUM'), ('million', 'NUM'), ('*U*', 'X'), ('from', 'ADP'), ('Hong', 'NOUN'), ('Kong', 'NOUN'), (',', '.'), ('according', 'VERB'), ('to', 'PRT'), ('the', 'DET'), ('ITC', 'NOUN'), ('.', '.')]\n"
     ]
    }
   ],
   "source": [
    "print(\"Time taken in seconds: \", difference)\n",
    "print(tagged_seq)\n",
    "#print(test_run_base)"
   ]
  },
  {
   "cell_type": "code",
   "execution_count": 249,
   "metadata": {},
   "outputs": [
    {
     "name": "stdout",
     "output_type": "stream",
     "text": [
      "Accuracy = 0.9095238095238095\n"
     ]
    }
   ],
   "source": [
    "# accuracy\n",
    "check = [i for i, j in zip(tagged_seq, test_run_base) if i == j] \n",
    "vanilla_viterbi_accuracy = len(check)/len(tagged_seq)\n",
    "print(\"Accuracy = {}\".format(vanilla_viterbi_accuracy))"
   ]
  },
  {
   "cell_type": "code",
   "execution_count": 250,
   "metadata": {},
   "outputs": [
    {
     "data": {
      "text/plain": [
       "[[('ShareData', 'NOUN'), (('develops', 'DET'), ('develops', 'VERB'))],\n",
       " [('and', 'CONJ'), (('markets', 'NOUN'), ('markets', 'VERB'))],\n",
       " [('markets', 'VERB'), (('low-cost', 'DET'), ('low-cost', 'ADJ'))],\n",
       " [('settled', 'VERB'), (('pre-1917', 'DET'), ('pre-1917', 'ADJ'))],\n",
       " [('When', 'ADV'), (('test', 'VERB'), ('test', 'NOUN'))],\n",
       " [('*-1', 'X'), (('out', 'PRT'), ('out', 'ADV'))],\n",
       " [('she', 'PRON'), (('copied', 'DET'), ('copied', 'VERB'))],\n",
       " [('totaled', 'VERB'), (('154.2', 'DET'), ('154.2', 'NUM'))],\n",
       " [('been', 'VERB'), (('enormously', 'DET'), ('enormously', 'ADV'))],\n",
       " [('enormously', 'ADV'), (('frustrating', 'DET'), ('frustrating', 'VERB'))],\n",
       " [('computer', 'NOUN'), (('science', 'DET'), ('science', 'NOUN'))],\n",
       " [('was', 'VERB'), (('raring', 'DET'), ('raring', 'ADJ'))],\n",
       " [('to', 'PRT'), (('invent', 'DET'), ('invent', 'VERB'))],\n",
       " [('another', 'DET'), (('Walkman', 'DET'), ('Walkman', 'NOUN'))],\n",
       " [('was', 'VERB'), (('soliciting', 'DET'), ('soliciting', 'VERB'))],\n",
       " [('sell', 'VERB'), (('TXO', 'DET'), ('TXO', 'NOUN'))],\n",
       " [('TXO', 'NOUN'), ((\"'s\", 'VERB'), (\"'s\", 'PRT'))],\n",
       " [('of', 'ADP'), (('manmade-fiber', 'DET'), ('manmade-fiber', 'ADJ'))],\n",
       " [('$', '.'), (('405', 'DET'), ('405', 'NUM'))]]"
      ]
     },
     "execution_count": 250,
     "metadata": {},
     "output_type": "execute_result"
    }
   ],
   "source": [
    "incorrect_tagged_cases = [[test_run_base[i-1],j] for i, j in enumerate(zip(tagged_seq, test_run_base)) if j[0]!=j[1]]\n",
    "incorrect_tagged_cases"
   ]
  },
  {
   "cell_type": "markdown",
   "metadata": {},
   "source": [
    "### Solve the problem of unknown words"
   ]
  },
  {
   "cell_type": "markdown",
   "metadata": {},
   "source": [
    "### Modification 1: Unknown words replaced by noun as noun being the most common tag for unknown words"
   ]
  },
  {
   "cell_type": "markdown",
   "metadata": {},
   "source": [
    "#### Tags of all unknown words are Tagged as noun\n",
    "Till now if the word was unkown emision prob was becoming 0.\n",
    "Then all the POS are equally likely and randomly first tag is taken.\n",
    "Therefore, hard code equal to noun regarding the unkown word. \n",
    "Different random state value "
   ]
  },
  {
   "cell_type": "code",
   "execution_count": 251,
   "metadata": {},
   "outputs": [],
   "source": [
    "# Modified Version 1 of Viterbi Heuristic \n",
    "def ModifiedViterbi1(test_words, train_bag = train_tagged_words):\n",
    "    tagged = Viterbi(test_words)\n",
    "    words = [pair[0] for pair in tagged]\n",
    "    tags  = [pair[1] for pair in tagged]\n",
    "    for key, word in enumerate(words):\n",
    "        if word not in V:\n",
    "            tags[key] = 'NOUN'\n",
    "    return list(zip(words,tags))"
   ]
  },
  {
   "cell_type": "markdown",
   "metadata": {},
   "source": [
    "### Testing the data"
   ]
  },
  {
   "cell_type": "code",
   "execution_count": 252,
   "metadata": {},
   "outputs": [
    {
     "name": "stdout",
     "output_type": "stream",
     "text": [
      "Time taken in seconds:  75.32595419883728\n",
      "[('Shearson', 'NOUN'), ('``', '.'), ('really', 'ADV'), ('only', 'ADV'), ('has', 'VERB'), ('$', '.'), ('300', 'NUM'), ('million', 'NUM'), ('*U*', 'X'), ('of', 'ADP'), ('capital', 'NOUN'), (',', '.'), (\"''\", '.'), ('says', 'VERB'), ('*T*-1', 'X'), ('Mr.', 'NOUN'), ('Bowman', 'NOUN'), ('of', 'ADP'), ('S&P', 'NOUN'), ('.', '.'), ('ShareData', 'NOUN'), ('develops', 'NOUN'), ('and', 'CONJ'), ('markets', 'NOUN'), ('low-cost', 'NOUN'), ('software', 'NOUN'), (',', '.'), ('peripheral', 'ADJ'), ('equipment', 'NOUN'), ('and', 'CONJ'), ('accessories', 'NOUN'), ('for', 'ADP'), ('computers', 'NOUN'), ('.', '.'), ('Moscow', 'NOUN'), ('has', 'VERB'), ('settled', 'VERB'), ('pre-1917', 'NOUN'), ('debts', 'NOUN'), ('with', 'ADP'), ('other', 'ADJ'), ('countries', 'NOUN'), ('in', 'ADP'), ('recent', 'ADJ'), ('years', 'NOUN'), ('at', 'ADP'), ('less', 'ADJ'), ('than', 'ADP'), ('face', 'NOUN'), ('value', 'NOUN'), ('.', '.'), ('When', 'ADV'), ('test', 'VERB'), ('booklets', 'NOUN'), ('were', 'VERB'), ('passed', 'VERB'), ('*-1', 'X'), ('out', 'PRT'), ('48', 'NUM'), ('hours', 'NOUN'), ('ahead', 'ADV'), ('of', 'ADP'), ('time', 'NOUN'), ('*T*-2', 'X'), (',', '.'), ('she', 'PRON'), ('says', 'VERB'), ('0', 'X'), ('she', 'PRON'), ('copied', 'NOUN'), ('questions', 'NOUN'), ('in', 'ADP'), ('the', 'DET'), ('social', 'ADJ'), ('studies', 'NOUN'), ('section', 'NOUN'), ('and', 'CONJ'), ('gave', 'VERB'), ('the', 'DET'), ('answers', 'NOUN'), ('to', 'PRT'), ('students', 'NOUN'), ('.', '.'), ('The', 'DET'), ('Life', 'NOUN'), ('Insurance', 'NOUN'), ('Co.', 'NOUN'), ('of', 'ADP'), ('Georgia', 'NOUN'), ('has', 'VERB'), ('officially', 'ADV'), ('opened', 'VERB'), ('an', 'DET'), ('office', 'NOUN'), ('in', 'ADP'), ('Taipei', 'NOUN'), ('.', '.'), ('Big', 'NOUN'), ('Board', 'NOUN'), ('volume', 'NOUN'), ('totaled', 'VERB'), ('154.2', 'NOUN'), ('million', 'NUM'), ('shares', 'NOUN'), ('.', '.'), ('All', 'DET'), ('of', 'ADP'), ('this', 'DET'), ('must', 'VERB'), ('have', 'VERB'), ('been', 'VERB'), ('enormously', 'NOUN'), ('frustrating', 'NOUN'), ('to', 'PRT'), ('Mr.', 'NOUN'), ('Katzenstein', 'NOUN'), (',', '.'), ('who', 'PRON'), ('*T*-59', 'X'), ('went', 'VERB'), ('to', 'PRT'), ('Sony', 'NOUN'), ('with', 'ADP'), ('degrees', 'NOUN'), ('in', 'ADP'), ('business', 'NOUN'), ('and', 'CONJ'), ('computer', 'NOUN'), ('science', 'NOUN'), ('and', 'CONJ'), ('was', 'VERB'), ('raring', 'NOUN'), ('*-1', 'X'), ('to', 'PRT'), ('invent', 'NOUN'), ('another', 'DET'), ('Walkman', 'NOUN'), ('.', '.'), ('USX', 'NOUN'), ('announced', 'VERB'), ('in', 'ADP'), ('October', 'NOUN'), ('that', 'ADP'), ('it', 'PRON'), ('was', 'VERB'), ('soliciting', 'NOUN'), ('bids', 'NOUN'), ('*', 'X'), ('to', 'PRT'), ('sell', 'VERB'), ('TXO', 'NOUN'), (\"'s\", 'VERB'), ('oil', 'NOUN'), ('and', 'CONJ'), ('gas', 'NOUN'), ('reserves', 'NOUN'), ('.', '.'), ('That', 'DET'), ('followed', 'VERB'), ('four', 'NUM'), ('straight', 'ADJ'), ('months', 'NOUN'), ('in', 'ADP'), ('which', 'DET'), ('the', 'DET'), ('number', 'NOUN'), ('of', 'ADP'), ('increases', 'NOUN'), ('trailed', 'VERB'), ('the', 'DET'), ('year-earlier', 'ADJ'), ('pace', 'NOUN'), ('*T*-1', 'X'), ('.', '.'), ('Imports', 'NOUN'), ('of', 'ADP'), ('manmade-fiber', 'NOUN'), ('sweaters', 'NOUN'), ('in', 'ADP'), ('1988', 'NUM'), ('totaled', 'VERB'), ('about', 'ADP'), ('$', '.'), ('405', 'NOUN'), ('million', 'NUM'), ('*U*', 'X'), ('from', 'ADP'), ('Taiwan', 'NOUN'), (',', '.'), ('$', '.'), ('400', 'NUM'), ('million', 'NUM'), ('*U*', 'X'), ('from', 'ADP'), ('South', 'NOUN'), ('Korea', 'NOUN'), ('and', 'CONJ'), ('$', '.'), ('125', 'NUM'), ('million', 'NUM'), ('*U*', 'X'), ('from', 'ADP'), ('Hong', 'NOUN'), ('Kong', 'NOUN'), (',', '.'), ('according', 'VERB'), ('to', 'PRT'), ('the', 'DET'), ('ITC', 'NOUN'), ('.', '.')]\n"
     ]
    }
   ],
   "source": [
    "# tagging the test sentences\n",
    "start = time.time()\n",
    "tagged_seq_mod1 = ModifiedViterbi1(test_tagged_words)\n",
    "end = time.time()\n",
    "difference = end-start\n",
    "print(\"Time taken in seconds: \", difference)\n",
    "print(tagged_seq_mod1)"
   ]
  },
  {
   "cell_type": "markdown",
   "metadata": {},
   "source": [
    "#### Evaluating tagging accuracy"
   ]
  },
  {
   "cell_type": "code",
   "execution_count": 260,
   "metadata": {},
   "outputs": [
    {
     "name": "stdout",
     "output_type": "stream",
     "text": [
      "Accuracy = 0.9238095238095239\n"
     ]
    },
    {
     "data": {
      "text/plain": [
       "[[('ShareData', 'NOUN'), (('develops', 'NOUN'), ('develops', 'VERB'))],\n",
       " [('and', 'CONJ'), (('markets', 'NOUN'), ('markets', 'VERB'))],\n",
       " [('markets', 'VERB'), (('low-cost', 'NOUN'), ('low-cost', 'ADJ'))],\n",
       " [('settled', 'VERB'), (('pre-1917', 'NOUN'), ('pre-1917', 'ADJ'))],\n",
       " [('When', 'ADV'), (('test', 'VERB'), ('test', 'NOUN'))],\n",
       " [('*-1', 'X'), (('out', 'PRT'), ('out', 'ADV'))],\n",
       " [('she', 'PRON'), (('copied', 'NOUN'), ('copied', 'VERB'))],\n",
       " [('totaled', 'VERB'), (('154.2', 'NOUN'), ('154.2', 'NUM'))],\n",
       " [('been', 'VERB'), (('enormously', 'NOUN'), ('enormously', 'ADV'))],\n",
       " [('enormously', 'ADV'), (('frustrating', 'NOUN'), ('frustrating', 'VERB'))],\n",
       " [('was', 'VERB'), (('raring', 'NOUN'), ('raring', 'ADJ'))],\n",
       " [('to', 'PRT'), (('invent', 'NOUN'), ('invent', 'VERB'))],\n",
       " [('was', 'VERB'), (('soliciting', 'NOUN'), ('soliciting', 'VERB'))],\n",
       " [('TXO', 'NOUN'), ((\"'s\", 'VERB'), (\"'s\", 'PRT'))],\n",
       " [('of', 'ADP'), (('manmade-fiber', 'NOUN'), ('manmade-fiber', 'ADJ'))],\n",
       " [('$', '.'), (('405', 'NOUN'), ('405', 'NUM'))]]"
      ]
     },
     "execution_count": 260,
     "metadata": {},
     "output_type": "execute_result"
    }
   ],
   "source": [
    "# accuracy\n",
    "check = [i for i, j in zip(tagged_seq_mod1, test_run_base) if i == j] \n",
    "accuracy_viterbi_modified1 = len(check)/len(tagged_seq_mod1)\n",
    "print(\"Accuracy = {}\".format(accuracy_viterbi_modified1))\n",
    "incorrect_tagged_cases = [[test_run_base[i-1],j] for i, j in enumerate(zip(tagged_seq_mod1, test_run_base)) if j[0]!=j[1]]\n",
    "incorrect_tagged_cases"
   ]
  },
  {
   "cell_type": "markdown",
   "metadata": {},
   "source": [
    "### By Comparing the incorrect tagged cases of Vanila Viterbi and 1st modification of Viterbi algorithm we see: \n",
    "- Word 'Walkman' was incorrectly identified by Vanilla Viterbi as 'DET' and Modication 1 correctly identified it as 'NOUN'\n",
    "- Word 'Science' was incorrectly identified by Vanilla Viterbi as 'DET' and Modication 1 correctly identified it as 'NOUN'"
   ]
  },
  {
   "cell_type": "markdown",
   "metadata": {},
   "source": [
    "### Modification 2: Rule based algorithm for unknown words and making it work in tqandem with viterbi"
   ]
  },
  {
   "cell_type": "code",
   "execution_count": 261,
   "metadata": {},
   "outputs": [],
   "source": [
    "def find_pattern(text, patterns):\n",
    "    if re.search(patterns, text):\n",
    "        return True\n",
    "    else:\n",
    "        return False"
   ]
  },
  {
   "cell_type": "code",
   "execution_count": 262,
   "metadata": {},
   "outputs": [
    {
     "name": "stdout",
     "output_type": "stream",
     "text": [
      "VERB\n"
     ]
    }
   ],
   "source": [
    "if find_pattern(\"arriving\", '^[aA-zZ]+(ed|ing|es)$') == True:\n",
    "    print(\"VERB\")"
   ]
  },
  {
   "cell_type": "code",
   "execution_count": 263,
   "metadata": {},
   "outputs": [],
   "source": [
    "# Modified Version 2 of Viterbi Heuristic \n",
    "def ModifiedViterbi2(test_words, train_bag = train_tagged_words):\n",
    "    tagged = Viterbi(test_words)\n",
    "    words = [pair[0] for pair in tagged]\n",
    "    tags  = [pair[1] for pair in tagged]\n",
    "    for key, word in enumerate(words):\n",
    "        if word not in V:\n",
    "            if (find_pattern(word, '.*ous$') == True or find_pattern(word, '.*able$') == True or find_pattern(word, '.*ful$') == True):\n",
    "                tags[key] = \"ADJ\"\n",
    "            elif find_pattern(word, '[0-9].?[,\\/]?[0-9]*') == True:\n",
    "                tags[key] = \"NUM\" \n",
    "            elif find_pattern(word, '(The|the|A|a|An|an|That|that|This|this|Those|those|These|these)$') == True:\n",
    "                tags[key] = \"DET\" \n",
    "            elif find_pattern(word, '^[aA-zZ]+(ed|ing)$') == True:\n",
    "                tags[key] = \"VERB\"\n",
    "            elif find_pattern(word, '.*ly$') == True:\n",
    "                tags[key] = \"ADV\"  \n",
    "            elif word.upper()==word or word[0].upper()==word[0]:\n",
    "                tags[key] = \"NOUN\"\n",
    "            else:\n",
    "                tags[key] = \"NOUN\"\n",
    "                \n",
    "    return list(zip(words,tags))"
   ]
  },
  {
   "cell_type": "code",
   "execution_count": 264,
   "metadata": {},
   "outputs": [
    {
     "name": "stdout",
     "output_type": "stream",
     "text": [
      "Time taken in seconds:  85.4307861328125\n",
      "[('Shearson', 'NOUN'), ('``', '.'), ('really', 'ADV'), ('only', 'ADV'), ('has', 'VERB'), ('$', '.'), ('300', 'NUM'), ('million', 'NUM'), ('*U*', 'X'), ('of', 'ADP'), ('capital', 'NOUN'), (',', '.'), (\"''\", '.'), ('says', 'VERB'), ('*T*-1', 'X'), ('Mr.', 'NOUN'), ('Bowman', 'NOUN'), ('of', 'ADP'), ('S&P', 'NOUN'), ('.', '.'), ('ShareData', 'NOUN'), ('develops', 'NOUN'), ('and', 'CONJ'), ('markets', 'NOUN'), ('low-cost', 'NOUN'), ('software', 'NOUN'), (',', '.'), ('peripheral', 'ADJ'), ('equipment', 'NOUN'), ('and', 'CONJ'), ('accessories', 'NOUN'), ('for', 'ADP'), ('computers', 'NOUN'), ('.', '.'), ('Moscow', 'NOUN'), ('has', 'VERB'), ('settled', 'VERB'), ('pre-1917', 'NUM'), ('debts', 'NOUN'), ('with', 'ADP'), ('other', 'ADJ'), ('countries', 'NOUN'), ('in', 'ADP'), ('recent', 'ADJ'), ('years', 'NOUN'), ('at', 'ADP'), ('less', 'ADJ'), ('than', 'ADP'), ('face', 'NOUN'), ('value', 'NOUN'), ('.', '.'), ('When', 'ADV'), ('test', 'VERB'), ('booklets', 'NOUN'), ('were', 'VERB'), ('passed', 'VERB'), ('*-1', 'X'), ('out', 'PRT'), ('48', 'NUM'), ('hours', 'NOUN'), ('ahead', 'ADV'), ('of', 'ADP'), ('time', 'NOUN'), ('*T*-2', 'X'), (',', '.'), ('she', 'PRON'), ('says', 'VERB'), ('0', 'X'), ('she', 'PRON'), ('copied', 'VERB'), ('questions', 'NOUN'), ('in', 'ADP'), ('the', 'DET'), ('social', 'ADJ'), ('studies', 'NOUN'), ('section', 'NOUN'), ('and', 'CONJ'), ('gave', 'VERB'), ('the', 'DET'), ('answers', 'NOUN'), ('to', 'PRT'), ('students', 'NOUN'), ('.', '.'), ('The', 'DET'), ('Life', 'NOUN'), ('Insurance', 'NOUN'), ('Co.', 'NOUN'), ('of', 'ADP'), ('Georgia', 'NOUN'), ('has', 'VERB'), ('officially', 'ADV'), ('opened', 'VERB'), ('an', 'DET'), ('office', 'NOUN'), ('in', 'ADP'), ('Taipei', 'NOUN'), ('.', '.'), ('Big', 'NOUN'), ('Board', 'NOUN'), ('volume', 'NOUN'), ('totaled', 'VERB'), ('154.2', 'NUM'), ('million', 'NUM'), ('shares', 'NOUN'), ('.', '.'), ('All', 'DET'), ('of', 'ADP'), ('this', 'DET'), ('must', 'VERB'), ('have', 'VERB'), ('been', 'VERB'), ('enormously', 'ADV'), ('frustrating', 'VERB'), ('to', 'PRT'), ('Mr.', 'NOUN'), ('Katzenstein', 'NOUN'), (',', '.'), ('who', 'PRON'), ('*T*-59', 'X'), ('went', 'VERB'), ('to', 'PRT'), ('Sony', 'NOUN'), ('with', 'ADP'), ('degrees', 'NOUN'), ('in', 'ADP'), ('business', 'NOUN'), ('and', 'CONJ'), ('computer', 'NOUN'), ('science', 'NOUN'), ('and', 'CONJ'), ('was', 'VERB'), ('raring', 'VERB'), ('*-1', 'X'), ('to', 'PRT'), ('invent', 'NOUN'), ('another', 'DET'), ('Walkman', 'DET'), ('.', '.'), ('USX', 'NOUN'), ('announced', 'VERB'), ('in', 'ADP'), ('October', 'NOUN'), ('that', 'ADP'), ('it', 'PRON'), ('was', 'VERB'), ('soliciting', 'VERB'), ('bids', 'NOUN'), ('*', 'X'), ('to', 'PRT'), ('sell', 'VERB'), ('TXO', 'NOUN'), (\"'s\", 'VERB'), ('oil', 'NOUN'), ('and', 'CONJ'), ('gas', 'NOUN'), ('reserves', 'NOUN'), ('.', '.'), ('That', 'DET'), ('followed', 'VERB'), ('four', 'NUM'), ('straight', 'ADJ'), ('months', 'NOUN'), ('in', 'ADP'), ('which', 'DET'), ('the', 'DET'), ('number', 'NOUN'), ('of', 'ADP'), ('increases', 'NOUN'), ('trailed', 'VERB'), ('the', 'DET'), ('year-earlier', 'ADJ'), ('pace', 'NOUN'), ('*T*-1', 'X'), ('.', '.'), ('Imports', 'NOUN'), ('of', 'ADP'), ('manmade-fiber', 'NOUN'), ('sweaters', 'NOUN'), ('in', 'ADP'), ('1988', 'NUM'), ('totaled', 'VERB'), ('about', 'ADP'), ('$', '.'), ('405', 'NUM'), ('million', 'NUM'), ('*U*', 'X'), ('from', 'ADP'), ('Taiwan', 'NOUN'), (',', '.'), ('$', '.'), ('400', 'NUM'), ('million', 'NUM'), ('*U*', 'X'), ('from', 'ADP'), ('South', 'NOUN'), ('Korea', 'NOUN'), ('and', 'CONJ'), ('$', '.'), ('125', 'NUM'), ('million', 'NUM'), ('*U*', 'X'), ('from', 'ADP'), ('Hong', 'NOUN'), ('Kong', 'NOUN'), (',', '.'), ('according', 'VERB'), ('to', 'PRT'), ('the', 'DET'), ('ITC', 'NOUN'), ('.', '.')]\n"
     ]
    }
   ],
   "source": [
    "# tagging the test sentences\n",
    "start = time.time()\n",
    "tagged_seq_mod2 = ModifiedViterbi2(test_tagged_words)\n",
    "end = time.time()\n",
    "difference = end-start\n",
    "print(\"Time taken in seconds: \", difference)\n",
    "print(tagged_seq_mod2)"
   ]
  },
  {
   "cell_type": "code",
   "execution_count": 267,
   "metadata": {},
   "outputs": [
    {
     "name": "stdout",
     "output_type": "stream",
     "text": [
      "Accuracy = 0.9476190476190476\n"
     ]
    },
    {
     "data": {
      "text/plain": [
       "[[('ShareData', 'NOUN'), (('develops', 'NOUN'), ('develops', 'VERB'))],\n",
       " [('and', 'CONJ'), (('markets', 'NOUN'), ('markets', 'VERB'))],\n",
       " [('markets', 'VERB'), (('low-cost', 'NOUN'), ('low-cost', 'ADJ'))],\n",
       " [('settled', 'VERB'), (('pre-1917', 'NUM'), ('pre-1917', 'ADJ'))],\n",
       " [('When', 'ADV'), (('test', 'VERB'), ('test', 'NOUN'))],\n",
       " [('*-1', 'X'), (('out', 'PRT'), ('out', 'ADV'))],\n",
       " [('was', 'VERB'), (('raring', 'VERB'), ('raring', 'ADJ'))],\n",
       " [('to', 'PRT'), (('invent', 'NOUN'), ('invent', 'VERB'))],\n",
       " [('another', 'DET'), (('Walkman', 'DET'), ('Walkman', 'NOUN'))],\n",
       " [('TXO', 'NOUN'), ((\"'s\", 'VERB'), (\"'s\", 'PRT'))],\n",
       " [('of', 'ADP'), (('manmade-fiber', 'NOUN'), ('manmade-fiber', 'ADJ'))]]"
      ]
     },
     "execution_count": 267,
     "metadata": {},
     "output_type": "execute_result"
    }
   ],
   "source": [
    "# accuracy\n",
    "check = [i for i, j in zip(tagged_seq_mod2, test_run_base) if i == j] \n",
    "accuracy_viterbi_modified2 = len(check)/len(tagged_seq_mod2)\n",
    "print(\"Accuracy = {}\".format(accuracy_viterbi_modified2))\n",
    "incorrect_tagged_cases = [[test_run_base[i-1],j] for i, j in enumerate(zip(tagged_seq_mod2, test_run_base)) if j[0]!=j[1]]\n",
    "incorrect_tagged_cases"
   ]
  },
  {
   "cell_type": "markdown",
   "metadata": {},
   "source": [
    "### By Comparing the incorrect tagged cases of Vanila Viterbi and Rule based modified Viterbi algorithm we see\n",
    "- 'soliciting' and frustrating' was incorrectly identified as 'DET' but Rule based modification correctly identified them as 'VERB\n",
    "- 'TXO' was incorrectly identified as as 'DET' but Rule based modification correctly identified them as 'NOUN'"
   ]
  },
  {
   "cell_type": "markdown",
   "metadata": {},
   "source": [
    "### Compare the tagging accuracies of the modifications with the vanilla Viterbi algorithm"
   ]
  },
  {
   "cell_type": "code",
   "execution_count": 268,
   "metadata": {},
   "outputs": [
    {
     "data": {
      "text/html": [
       "<div>\n",
       "<style scoped>\n",
       "    .dataframe tbody tr th:only-of-type {\n",
       "        vertical-align: middle;\n",
       "    }\n",
       "\n",
       "    .dataframe tbody tr th {\n",
       "        vertical-align: top;\n",
       "    }\n",
       "\n",
       "    .dataframe thead th {\n",
       "        text-align: right;\n",
       "    }\n",
       "</style>\n",
       "<table border=\"1\" class=\"dataframe\">\n",
       "  <thead>\n",
       "    <tr style=\"text-align: right;\">\n",
       "      <th></th>\n",
       "      <th>Accuracy</th>\n",
       "    </tr>\n",
       "    <tr>\n",
       "      <th>Algorithm</th>\n",
       "      <th></th>\n",
       "    </tr>\n",
       "  </thead>\n",
       "  <tbody>\n",
       "    <tr>\n",
       "      <th>Vanilla Viterbi</th>\n",
       "      <td>0.909524</td>\n",
       "    </tr>\n",
       "    <tr>\n",
       "      <th>Viterbi Modified1 - NOUN for unknowns</th>\n",
       "      <td>0.923810</td>\n",
       "    </tr>\n",
       "    <tr>\n",
       "      <th>Viterbi Modified2 - Rule Based</th>\n",
       "      <td>0.947619</td>\n",
       "    </tr>\n",
       "  </tbody>\n",
       "</table>\n",
       "</div>"
      ],
      "text/plain": [
       "                                       Accuracy\n",
       "Algorithm                                      \n",
       "Vanilla Viterbi                        0.909524\n",
       "Viterbi Modified1 - NOUN for unknowns  0.923810\n",
       "Viterbi Modified2 - Rule Based         0.947619"
      ]
     },
     "execution_count": 268,
     "metadata": {},
     "output_type": "execute_result"
    }
   ],
   "source": [
    "acccuracy_data = [['Vanilla Viterbi', vanilla_viterbi_accuracy], \n",
    "                  ['Viterbi Modified1 - NOUN for unknowns', accuracy_viterbi_modified1], \n",
    "                  ['Viterbi Modified2 - Rule Based', accuracy_viterbi_modified2]\n",
    "                 ]\n",
    "\n",
    "acccuracy_data_df = pd.DataFrame(acccuracy_data, columns = ['Algorithm', 'Accuracy'])\n",
    "\n",
    "acccuracy_data_df.set_index('Algorithm', drop = True, inplace = True)\n",
    "\n",
    "acccuracy_data_df"
   ]
  },
  {
   "cell_type": "markdown",
   "metadata": {},
   "source": [
    "### List down cases which were incorrectly tagged by original POS tagger and got corrected by your modifications"
   ]
  },
  {
   "cell_type": "code",
   "execution_count": 269,
   "metadata": {},
   "outputs": [],
   "source": [
    "## Testing\n",
    "sentence_test = \"Android is a mobile operating system developed by Google. \\\n",
    "Android has been the best-selling OS worldwide on smartphones since 2011 and on tablets since 2013. \\\n",
    "Google and Twitter made a deal in 2015 that gave Google access to Twitter's firehose. \\\n",
    "Twitter is an online news and social networking service on which users post and interact with messages known as tweets. \\\n",
    "Before entering politics, Donald Trump was a domineering businessman and a television personality. \\\n",
    "The 2018 FIFA World Cup is the 21st FIFA World Cup, an international football tournament contested once every four years. \\\n",
    "This is the first World Cup to be held in Eastern Europe and the 11th time that it has been held in Europe. \\\n",
    "Show me the cheapest round trips from Dallas to Atlanta I would like to see flights from Denver to Philadelphia. \\\n",
    "Show me the price of the flights leaving Atlanta at about 3 in the afternoon and arriving in San Francisco. \\\n",
    "NASA invited social media users to experience the launch of ICESAT-2 Satellite.\"\n",
    "\n",
    "words = word_tokenize(sentence_test)"
   ]
  },
  {
   "cell_type": "code",
   "execution_count": 270,
   "metadata": {},
   "outputs": [
    {
     "name": "stdout",
     "output_type": "stream",
     "text": [
      "Time taken for vanila Viterbi= 78.91139316558838\n",
      "[('Android', 'DET'), ('is', 'VERB'), ('a', 'DET'), ('mobile', 'ADJ'), ('operating', 'NOUN'), ('system', 'NOUN'), ('developed', 'VERB'), ('by', 'ADP'), ('Google', 'DET'), ('.', '.'), ('Android', 'DET'), ('has', 'VERB'), ('been', 'VERB'), ('the', 'DET'), ('best-selling', 'ADJ'), ('OS', 'DET'), ('worldwide', 'DET'), ('on', 'ADP'), ('smartphones', 'DET'), ('since', 'ADP'), ('2011', 'DET'), ('and', 'CONJ'), ('on', 'ADP'), ('tablets', 'NOUN'), ('since', 'ADP'), ('2013', 'DET'), ('.', '.'), ('Google', 'DET'), ('and', 'CONJ'), ('Twitter', 'DET'), ('made', 'VERB'), ('a', 'DET'), ('deal', 'NOUN'), ('in', 'ADP'), ('2015', 'DET'), ('that', 'ADP'), ('gave', 'VERB'), ('Google', 'DET'), ('access', 'NOUN'), ('to', 'PRT'), ('Twitter', 'DET'), (\"'s\", 'VERB'), ('firehose', 'DET'), ('.', '.'), ('Twitter', 'DET'), ('is', 'VERB'), ('an', 'DET'), ('online', 'DET'), ('news', 'NOUN'), ('and', 'CONJ'), ('social', 'ADJ'), ('networking', 'NOUN'), ('service', 'NOUN'), ('on', 'ADP'), ('which', 'DET'), ('users', 'NOUN'), ('post', 'NOUN'), ('and', 'CONJ'), ('interact', 'DET'), ('with', 'ADP'), ('messages', 'DET'), ('known', 'VERB'), ('as', 'ADP'), ('tweets', 'DET'), ('.', '.'), ('Before', 'ADP'), ('entering', 'VERB'), ('politics', 'NOUN'), (',', '.'), ('Donald', 'NOUN'), ('Trump', 'NOUN'), ('was', 'VERB'), ('a', 'DET'), ('domineering', 'DET'), ('businessman', 'NOUN'), ('and', 'CONJ'), ('a', 'DET'), ('television', 'NOUN'), ('personality', 'DET'), ('.', '.'), ('The', 'DET'), ('2018', 'DET'), ('FIFA', 'DET'), ('World', 'NOUN'), ('Cup', 'DET'), ('is', 'VERB'), ('the', 'DET'), ('21st', 'DET'), ('FIFA', 'DET'), ('World', 'NOUN'), ('Cup', 'DET'), (',', '.'), ('an', 'DET'), ('international', 'ADJ'), ('football', 'NOUN'), ('tournament', 'DET'), ('contested', 'DET'), ('once', 'ADV'), ('every', 'DET'), ('four', 'NUM'), ('years', 'NOUN'), ('.', '.'), ('This', 'DET'), ('is', 'VERB'), ('the', 'DET'), ('first', 'ADJ'), ('World', 'NOUN'), ('Cup', 'DET'), ('to', 'PRT'), ('be', 'VERB'), ('held', 'VERB'), ('in', 'ADP'), ('Eastern', 'NOUN'), ('Europe', 'NOUN'), ('and', 'CONJ'), ('the', 'DET'), ('11th', 'ADJ'), ('time', 'NOUN'), ('that', 'ADP'), ('it', 'PRON'), ('has', 'VERB'), ('been', 'VERB'), ('held', 'VERB'), ('in', 'ADP'), ('Europe', 'NOUN'), ('.', '.'), ('Show', 'NOUN'), ('me', 'PRON'), ('the', 'DET'), ('cheapest', 'ADJ'), ('round', 'NOUN'), ('trips', 'DET'), ('from', 'ADP'), ('Dallas', 'NOUN'), ('to', 'PRT'), ('Atlanta', 'NOUN'), ('I', 'PRON'), ('would', 'VERB'), ('like', 'ADP'), ('to', 'PRT'), ('see', 'VERB'), ('flights', 'NOUN'), ('from', 'ADP'), ('Denver', 'NOUN'), ('to', 'PRT'), ('Philadelphia', 'NOUN'), ('.', '.'), ('Show', 'NOUN'), ('me', 'PRON'), ('the', 'DET'), ('price', 'NOUN'), ('of', 'ADP'), ('the', 'DET'), ('flights', 'NOUN'), ('leaving', 'VERB'), ('Atlanta', 'NOUN'), ('at', 'ADP'), ('about', 'ADP'), ('3', 'NUM'), ('in', 'ADP'), ('the', 'DET'), ('afternoon', 'NOUN'), ('and', 'CONJ'), ('arriving', 'DET'), ('in', 'ADP'), ('San', 'NOUN'), ('Francisco', 'NOUN'), ('.', '.'), ('NASA', 'DET'), ('invited', 'DET'), ('social', 'ADJ'), ('media', 'NOUN'), ('users', 'NOUN'), ('to', 'PRT'), ('experience', 'NOUN'), ('the', 'DET'), ('launch', 'NOUN'), ('of', 'ADP'), ('ICESAT-2', 'DET'), ('Satellite', 'DET'), ('.', '.')]\n"
     ]
    }
   ],
   "source": [
    "# tagging the test sentences with vanila Viterbi\n",
    "start = time.time()\n",
    "tagged_seq_sentence = Viterbi(words)\n",
    "end = time.time()\n",
    "difference = end-start\n",
    "print(\"Time taken for vanila Viterbi= {}\".format(difference))\n",
    "print(tagged_seq_sentence)"
   ]
  },
  {
   "cell_type": "code",
   "execution_count": 271,
   "metadata": {},
   "outputs": [
    {
     "name": "stdout",
     "output_type": "stream",
     "text": [
      "[('Android', 'NOUN'), ('is', 'VERB'), ('a', 'DET'), ('mobile', 'ADJ'), ('operating', 'NOUN'), ('system', 'NOUN'), ('developed', 'VERB'), ('by', 'ADP'), ('Google', 'NOUN'), ('.', '.'), ('Android', 'NOUN'), ('has', 'VERB'), ('been', 'VERB'), ('the', 'DET'), ('best-selling', 'ADJ'), ('OS', 'NOUN'), ('worldwide', 'NOUN'), ('on', 'ADP'), ('smartphones', 'NOUN'), ('since', 'ADP'), ('2011', 'NOUN'), ('and', 'CONJ'), ('on', 'ADP'), ('tablets', 'NOUN'), ('since', 'ADP'), ('2013', 'NOUN'), ('.', '.'), ('Google', 'NOUN'), ('and', 'CONJ'), ('Twitter', 'NOUN'), ('made', 'VERB'), ('a', 'DET'), ('deal', 'NOUN'), ('in', 'ADP'), ('2015', 'NOUN'), ('that', 'ADP'), ('gave', 'VERB'), ('Google', 'NOUN'), ('access', 'NOUN'), ('to', 'PRT'), ('Twitter', 'NOUN'), (\"'s\", 'VERB'), ('firehose', 'NOUN'), ('.', '.'), ('Twitter', 'NOUN'), ('is', 'VERB'), ('an', 'DET'), ('online', 'NOUN'), ('news', 'NOUN'), ('and', 'CONJ'), ('social', 'ADJ'), ('networking', 'NOUN'), ('service', 'NOUN'), ('on', 'ADP'), ('which', 'DET'), ('users', 'NOUN'), ('post', 'NOUN'), ('and', 'CONJ'), ('interact', 'NOUN'), ('with', 'ADP'), ('messages', 'NOUN'), ('known', 'VERB'), ('as', 'ADP'), ('tweets', 'NOUN'), ('.', '.'), ('Before', 'ADP'), ('entering', 'VERB'), ('politics', 'NOUN'), (',', '.'), ('Donald', 'NOUN'), ('Trump', 'NOUN'), ('was', 'VERB'), ('a', 'DET'), ('domineering', 'NOUN'), ('businessman', 'NOUN'), ('and', 'CONJ'), ('a', 'DET'), ('television', 'NOUN'), ('personality', 'NOUN'), ('.', '.'), ('The', 'DET'), ('2018', 'NOUN'), ('FIFA', 'NOUN'), ('World', 'NOUN'), ('Cup', 'NOUN'), ('is', 'VERB'), ('the', 'DET'), ('21st', 'NOUN'), ('FIFA', 'NOUN'), ('World', 'NOUN'), ('Cup', 'NOUN'), (',', '.'), ('an', 'DET'), ('international', 'ADJ'), ('football', 'NOUN'), ('tournament', 'NOUN'), ('contested', 'NOUN'), ('once', 'ADV'), ('every', 'DET'), ('four', 'NUM'), ('years', 'NOUN'), ('.', '.'), ('This', 'DET'), ('is', 'VERB'), ('the', 'DET'), ('first', 'ADJ'), ('World', 'NOUN'), ('Cup', 'NOUN'), ('to', 'PRT'), ('be', 'VERB'), ('held', 'VERB'), ('in', 'ADP'), ('Eastern', 'NOUN'), ('Europe', 'NOUN'), ('and', 'CONJ'), ('the', 'DET'), ('11th', 'ADJ'), ('time', 'NOUN'), ('that', 'ADP'), ('it', 'PRON'), ('has', 'VERB'), ('been', 'VERB'), ('held', 'VERB'), ('in', 'ADP'), ('Europe', 'NOUN'), ('.', '.'), ('Show', 'NOUN'), ('me', 'PRON'), ('the', 'DET'), ('cheapest', 'ADJ'), ('round', 'NOUN'), ('trips', 'NOUN'), ('from', 'ADP'), ('Dallas', 'NOUN'), ('to', 'PRT'), ('Atlanta', 'NOUN'), ('I', 'PRON'), ('would', 'VERB'), ('like', 'ADP'), ('to', 'PRT'), ('see', 'VERB'), ('flights', 'NOUN'), ('from', 'ADP'), ('Denver', 'NOUN'), ('to', 'PRT'), ('Philadelphia', 'NOUN'), ('.', '.'), ('Show', 'NOUN'), ('me', 'PRON'), ('the', 'DET'), ('price', 'NOUN'), ('of', 'ADP'), ('the', 'DET'), ('flights', 'NOUN'), ('leaving', 'VERB'), ('Atlanta', 'NOUN'), ('at', 'ADP'), ('about', 'ADP'), ('3', 'NUM'), ('in', 'ADP'), ('the', 'DET'), ('afternoon', 'NOUN'), ('and', 'CONJ'), ('arriving', 'NOUN'), ('in', 'ADP'), ('San', 'NOUN'), ('Francisco', 'NOUN'), ('.', '.'), ('NASA', 'NOUN'), ('invited', 'NOUN'), ('social', 'ADJ'), ('media', 'NOUN'), ('users', 'NOUN'), ('to', 'PRT'), ('experience', 'NOUN'), ('the', 'DET'), ('launch', 'NOUN'), ('of', 'ADP'), ('ICESAT-2', 'NOUN'), ('Satellite', 'NOUN'), ('.', '.')]\n",
      "Time taken for ModifiedViterbi1= 72.02483558654785\n"
     ]
    }
   ],
   "source": [
    "# tagging the test sentences ModifiedViterbi1\n",
    "start = time.time()\n",
    "tagged_seq_sentence_mod1 = ModifiedViterbi1(words)\n",
    "end = time.time()\n",
    "difference = end-start\n",
    "print(tagged_seq_sentence_mod1)\n",
    "print(\"Time taken for ModifiedViterbi1= {}\".format(difference))\n"
   ]
  },
  {
   "cell_type": "code",
   "execution_count": 272,
   "metadata": {},
   "outputs": [
    {
     "name": "stdout",
     "output_type": "stream",
     "text": [
      "[('Android', 'NOUN'), ('is', 'VERB'), ('a', 'DET'), ('mobile', 'ADJ'), ('operating', 'NOUN'), ('system', 'NOUN'), ('developed', 'VERB'), ('by', 'ADP'), ('Google', 'NOUN'), ('.', '.'), ('Android', 'NOUN'), ('has', 'VERB'), ('been', 'VERB'), ('the', 'DET'), ('best-selling', 'ADJ'), ('OS', 'NOUN'), ('worldwide', 'NOUN'), ('on', 'ADP'), ('smartphones', 'NOUN'), ('since', 'ADP'), ('2011', 'NUM'), ('and', 'CONJ'), ('on', 'ADP'), ('tablets', 'NOUN'), ('since', 'ADP'), ('2013', 'NUM'), ('.', '.'), ('Google', 'NOUN'), ('and', 'CONJ'), ('Twitter', 'NOUN'), ('made', 'VERB'), ('a', 'DET'), ('deal', 'NOUN'), ('in', 'ADP'), ('2015', 'NUM'), ('that', 'ADP'), ('gave', 'VERB'), ('Google', 'NOUN'), ('access', 'NOUN'), ('to', 'PRT'), ('Twitter', 'NOUN'), (\"'s\", 'VERB'), ('firehose', 'NOUN'), ('.', '.'), ('Twitter', 'NOUN'), ('is', 'VERB'), ('an', 'DET'), ('online', 'NOUN'), ('news', 'NOUN'), ('and', 'CONJ'), ('social', 'ADJ'), ('networking', 'NOUN'), ('service', 'NOUN'), ('on', 'ADP'), ('which', 'DET'), ('users', 'NOUN'), ('post', 'NOUN'), ('and', 'CONJ'), ('interact', 'NOUN'), ('with', 'ADP'), ('messages', 'NOUN'), ('known', 'VERB'), ('as', 'ADP'), ('tweets', 'NOUN'), ('.', '.'), ('Before', 'ADP'), ('entering', 'VERB'), ('politics', 'NOUN'), (',', '.'), ('Donald', 'NOUN'), ('Trump', 'NOUN'), ('was', 'VERB'), ('a', 'DET'), ('domineering', 'VERB'), ('businessman', 'NOUN'), ('and', 'CONJ'), ('a', 'DET'), ('television', 'NOUN'), ('personality', 'NOUN'), ('.', '.'), ('The', 'DET'), ('2018', 'NUM'), ('FIFA', 'DET'), ('World', 'NOUN'), ('Cup', 'NOUN'), ('is', 'VERB'), ('the', 'DET'), ('21st', 'NUM'), ('FIFA', 'DET'), ('World', 'NOUN'), ('Cup', 'NOUN'), (',', '.'), ('an', 'DET'), ('international', 'ADJ'), ('football', 'NOUN'), ('tournament', 'NOUN'), ('contested', 'VERB'), ('once', 'ADV'), ('every', 'DET'), ('four', 'NUM'), ('years', 'NOUN'), ('.', '.'), ('This', 'DET'), ('is', 'VERB'), ('the', 'DET'), ('first', 'ADJ'), ('World', 'NOUN'), ('Cup', 'NOUN'), ('to', 'PRT'), ('be', 'VERB'), ('held', 'VERB'), ('in', 'ADP'), ('Eastern', 'NOUN'), ('Europe', 'NOUN'), ('and', 'CONJ'), ('the', 'DET'), ('11th', 'ADJ'), ('time', 'NOUN'), ('that', 'ADP'), ('it', 'PRON'), ('has', 'VERB'), ('been', 'VERB'), ('held', 'VERB'), ('in', 'ADP'), ('Europe', 'NOUN'), ('.', '.'), ('Show', 'NOUN'), ('me', 'PRON'), ('the', 'DET'), ('cheapest', 'ADJ'), ('round', 'NOUN'), ('trips', 'NOUN'), ('from', 'ADP'), ('Dallas', 'NOUN'), ('to', 'PRT'), ('Atlanta', 'NOUN'), ('I', 'PRON'), ('would', 'VERB'), ('like', 'ADP'), ('to', 'PRT'), ('see', 'VERB'), ('flights', 'NOUN'), ('from', 'ADP'), ('Denver', 'NOUN'), ('to', 'PRT'), ('Philadelphia', 'NOUN'), ('.', '.'), ('Show', 'NOUN'), ('me', 'PRON'), ('the', 'DET'), ('price', 'NOUN'), ('of', 'ADP'), ('the', 'DET'), ('flights', 'NOUN'), ('leaving', 'VERB'), ('Atlanta', 'NOUN'), ('at', 'ADP'), ('about', 'ADP'), ('3', 'NUM'), ('in', 'ADP'), ('the', 'DET'), ('afternoon', 'NOUN'), ('and', 'CONJ'), ('arriving', 'VERB'), ('in', 'ADP'), ('San', 'NOUN'), ('Francisco', 'NOUN'), ('.', '.'), ('NASA', 'DET'), ('invited', 'VERB'), ('social', 'ADJ'), ('media', 'NOUN'), ('users', 'NOUN'), ('to', 'PRT'), ('experience', 'NOUN'), ('the', 'DET'), ('launch', 'NOUN'), ('of', 'ADP'), ('ICESAT-2', 'NUM'), ('Satellite', 'NOUN'), ('.', '.')]\n",
      "Time taken for ModifiedViterbi2= 74.31288385391235\n"
     ]
    }
   ],
   "source": [
    "# tagging the test sentences with ModifiedViterbi2\n",
    "start = time.time()\n",
    "tagged_seq_sentence_mod2 = ModifiedViterbi2(words)\n",
    "end = time.time()\n",
    "difference = end-start\n",
    "print(tagged_seq_sentence_mod2)\n",
    "print(\"Time taken for ModifiedViterbi2= {}\".format(difference))\n"
   ]
  },
  {
   "cell_type": "code",
   "execution_count": 273,
   "metadata": {},
   "outputs": [
    {
     "name": "stdout",
     "output_type": "stream",
     "text": [
      "Mod1 : ('Android', 'DET') , ('Android', 'NOUN')\n",
      "Mod2: ('Android', 'DET') , ('Android', 'NOUN')\n",
      "Mod1 : ('Google', 'DET') , ('Google', 'NOUN')\n",
      "Mod2: ('Google', 'DET') , ('Google', 'NOUN')\n",
      "Mod1 : ('Android', 'DET') , ('Android', 'NOUN')\n",
      "Mod2: ('Android', 'DET') , ('Android', 'NOUN')\n",
      "Mod1 : ('OS', 'DET') , ('OS', 'NOUN')\n",
      "Mod2: ('OS', 'DET') , ('OS', 'NOUN')\n",
      "Mod1 : ('worldwide', 'DET') , ('worldwide', 'NOUN')\n",
      "Mod2: ('worldwide', 'DET') , ('worldwide', 'NOUN')\n",
      "Mod1 : ('smartphones', 'DET') , ('smartphones', 'NOUN')\n",
      "Mod2: ('smartphones', 'DET') , ('smartphones', 'NOUN')\n",
      "Mod1 : ('2011', 'DET') , ('2011', 'NOUN')\n",
      "Mod2: ('2011', 'DET') , ('2011', 'NUM')\n",
      "Mod1 : ('2013', 'DET') , ('2013', 'NOUN')\n",
      "Mod2: ('2013', 'DET') , ('2013', 'NUM')\n",
      "Mod1 : ('Google', 'DET') , ('Google', 'NOUN')\n",
      "Mod2: ('Google', 'DET') , ('Google', 'NOUN')\n",
      "Mod1 : ('Twitter', 'DET') , ('Twitter', 'NOUN')\n",
      "Mod2: ('Twitter', 'DET') , ('Twitter', 'NOUN')\n",
      "Mod1 : ('2015', 'DET') , ('2015', 'NOUN')\n",
      "Mod2: ('2015', 'DET') , ('2015', 'NUM')\n",
      "Mod1 : ('Google', 'DET') , ('Google', 'NOUN')\n",
      "Mod2: ('Google', 'DET') , ('Google', 'NOUN')\n",
      "Mod1 : ('Twitter', 'DET') , ('Twitter', 'NOUN')\n",
      "Mod2: ('Twitter', 'DET') , ('Twitter', 'NOUN')\n",
      "Mod1 : ('firehose', 'DET') , ('firehose', 'NOUN')\n",
      "Mod2: ('firehose', 'DET') , ('firehose', 'NOUN')\n",
      "Mod1 : ('Twitter', 'DET') , ('Twitter', 'NOUN')\n",
      "Mod2: ('Twitter', 'DET') , ('Twitter', 'NOUN')\n",
      "Mod1 : ('online', 'DET') , ('online', 'NOUN')\n",
      "Mod2: ('online', 'DET') , ('online', 'NOUN')\n",
      "Mod1 : ('interact', 'DET') , ('interact', 'NOUN')\n",
      "Mod2: ('interact', 'DET') , ('interact', 'NOUN')\n",
      "Mod1 : ('messages', 'DET') , ('messages', 'NOUN')\n",
      "Mod2: ('messages', 'DET') , ('messages', 'NOUN')\n",
      "Mod1 : ('tweets', 'DET') , ('tweets', 'NOUN')\n",
      "Mod2: ('tweets', 'DET') , ('tweets', 'NOUN')\n",
      "Mod1 : ('domineering', 'DET') , ('domineering', 'NOUN')\n",
      "Mod2: ('domineering', 'DET') , ('domineering', 'VERB')\n",
      "Mod1 : ('personality', 'DET') , ('personality', 'NOUN')\n",
      "Mod2: ('personality', 'DET') , ('personality', 'NOUN')\n",
      "Mod1 : ('2018', 'DET') , ('2018', 'NOUN')\n",
      "Mod2: ('2018', 'DET') , ('2018', 'NUM')\n",
      "Mod1 : ('FIFA', 'DET') , ('FIFA', 'NOUN')\n",
      "Mod2: ('FIFA', 'DET') , ('FIFA', 'DET')\n",
      "Mod1 : ('Cup', 'DET') , ('Cup', 'NOUN')\n",
      "Mod2: ('Cup', 'DET') , ('Cup', 'NOUN')\n",
      "Mod1 : ('21st', 'DET') , ('21st', 'NOUN')\n",
      "Mod2: ('21st', 'DET') , ('21st', 'NUM')\n",
      "Mod1 : ('FIFA', 'DET') , ('FIFA', 'NOUN')\n",
      "Mod2: ('FIFA', 'DET') , ('FIFA', 'DET')\n",
      "Mod1 : ('Cup', 'DET') , ('Cup', 'NOUN')\n",
      "Mod2: ('Cup', 'DET') , ('Cup', 'NOUN')\n",
      "Mod1 : ('tournament', 'DET') , ('tournament', 'NOUN')\n",
      "Mod2: ('tournament', 'DET') , ('tournament', 'NOUN')\n",
      "Mod1 : ('contested', 'DET') , ('contested', 'NOUN')\n",
      "Mod2: ('contested', 'DET') , ('contested', 'VERB')\n",
      "Mod1 : ('Cup', 'DET') , ('Cup', 'NOUN')\n",
      "Mod2: ('Cup', 'DET') , ('Cup', 'NOUN')\n",
      "Mod1 : ('trips', 'DET') , ('trips', 'NOUN')\n",
      "Mod2: ('trips', 'DET') , ('trips', 'NOUN')\n",
      "Mod1 : ('arriving', 'DET') , ('arriving', 'NOUN')\n",
      "Mod2: ('arriving', 'DET') , ('arriving', 'VERB')\n",
      "Mod1 : ('NASA', 'DET') , ('NASA', 'NOUN')\n",
      "Mod2: ('NASA', 'DET') , ('NASA', 'DET')\n",
      "Mod1 : ('invited', 'DET') , ('invited', 'NOUN')\n",
      "Mod2: ('invited', 'DET') , ('invited', 'VERB')\n",
      "Mod1 : ('ICESAT-2', 'DET') , ('ICESAT-2', 'NOUN')\n",
      "Mod2: ('ICESAT-2', 'DET') , ('ICESAT-2', 'NUM')\n",
      "Mod1 : ('Satellite', 'DET') , ('Satellite', 'NOUN')\n",
      "Mod2: ('Satellite', 'DET') , ('Satellite', 'NOUN')\n"
     ]
    }
   ],
   "source": [
    "for i in range(len(tagged_seq_sentence)):\n",
    "    tup = tagged_seq_sentence[i]\n",
    "    tup1 = tagged_seq_sentence_mod1[i]\n",
    "    tup2 = tagged_seq_sentence_mod2[i]\n",
    "    if(tup[1]!=tup1[1]):\n",
    "        print(\"Mod1 : {} , {}\".format(tup,tup1))\n",
    "    if(tup[1]!=tup1[1]):\n",
    "        print(\"Mod2: {} , {}\".format(tup,tup2))"
   ]
  },
  {
   "cell_type": "markdown",
   "metadata": {},
   "source": [
    "#### We can see that the above words were incorrectly tagged by vanilla Viterbi. By comparing the results of all the three algorithms, following are few sample test cases.\n",
    "\n",
    "- Android, google. Twitter and OS were tagged as 'DET' by vanilla Viterbi whereas modified Viterbi tagged it as 'NOUN'\n",
    "- 'invited' and 'domineering' were incorrectly tagged as 'DET' by vanilla Viterbi. Modification 1 tagged them as 'NOUN' whereas Rule based Modification correctly tagged them as 'VERB'\n",
    "- Years like 2018. 2013, 2015 were incorrectly tagged as 'DET' by vanilla Viterbi. Modification 1 tagged them as 'NOUN' whereas Rule based Modification correctly tagged it as 'NUM'"
   ]
  },
  {
   "cell_type": "code",
   "execution_count": null,
   "metadata": {},
   "outputs": [],
   "source": []
  }
 ],
 "metadata": {
  "kernelspec": {
   "display_name": "Python 3",
   "language": "python",
   "name": "python3"
  },
  "language_info": {
   "codemirror_mode": {
    "name": "ipython",
    "version": 3
   },
   "file_extension": ".py",
   "mimetype": "text/x-python",
   "name": "python",
   "nbconvert_exporter": "python",
   "pygments_lexer": "ipython3",
   "version": "3.7.7"
  }
 },
 "nbformat": 4,
 "nbformat_minor": 2
}
